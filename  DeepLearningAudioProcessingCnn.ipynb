{
 "cells": [
  {
   "cell_type": "markdown",
   "id": "743147fa-de3f-4990-8c39-073de949f4af",
   "metadata": {},
   "source": [
    "### Giriş \n",
    "\n",
    "\n",
    "Bu derin öğrenme modeli, ses sinyallerinden özellik çıkarmak için **Mel Frekansı Kepstral Katsayıları (MFCC)** yöntemini kullanır. İşte bu sürecin adımları ve arka plandaki matematiksel işlemler:\n",
    "\n",
    "1. **Ses Sinyalinin Yüklenmesi**: `librosa.load` fonksiyonu ile ses dosyası yüklenir ve ses sinyali (`librosa_audio_data`) ile örnekleme hızı (`librosa_sample_rate`) elde edilir.\n",
    "\n",
    "2. **Ses Sinyalinin Görselleştirilmesi**: `matplotlib.pyplot` kütüphanesi kullanılarak ses sinyalinin zaman domenindeki dalga formu görselleştirilir.\n",
    "\n",
    "3. **MFCC Özellik Çıkarımı**: `librosa.feature.mfcc` fonksiyonu ile ses sinyalinden MFCC özellikleri çıkarılır. `n_mfcc` parametresi, döndürülecek MFCC sayısını belirtir.\n",
    "\n",
    "4. **Özelliklerin Ölçeklendirilmesi**: MFCC matrisinin transpozu alınır ve her sütunun ortalaması hesaplanarak özellikler ölçeklendirilir.\n",
    "\n",
    "5. **Özelliklerin Veri Çerçevesine Dönüştürülmesi**: Çıkarılan özellikler ve etiketler bir veri çerçevesine dönüştürülür.\n",
    "\n",
    "6. **Eğitim ve Test Verilerinin Ayrılması**: `train_test_split` fonksiyonu ile veri seti eğitim ve test verileri olarak ayrılır.\n",
    "\n",
    "7. **Modelin Oluşturulması ve Eğitimi**:\n",
    "   - **Model Yapısı**: `Sequential` modeli kullanılarak, gizli katmanlar ve çıktı katmanı eklenir. Her katmanda `Dense` (yoğun) katmanlar, `Activation` (aktivasyon fonksiyonları) ve `Dropout` (aşırı uyumu önlemek için) kullanılır.\n",
    "   - **Model Derlemesi**: `compile` fonksiyonu ile model kayıp fonksiyonu (`loss`), metrikler (`metrics`) ve optimizasyon algoritması (`optimizer`) belirlenir.\n",
    "   - **Model Eğitimi**: `fit` fonksiyonu ile model, eğitim verileri üzerinde belirli sayıda dönem (`epochs`) ve belirli bir parti boyutu (`batch_size`) ile eğitilir.\n",
    "   - **Model Değerlendirmesi**: `evaluate` fonksiyonu ile modelin test verileri üzerindeki performansı değerlendirilir.\n",
    "\n",
    "8. **Tahmin Yapma**: `predict_classes` fonksiyonu ile test verileri için sınıf tahminleri yapılır.\n",
    "\n",
    "Bu süreçte kullanılan matematiksel işlemler arasında Fourier Dönüşümü, Mel Ölçeği dönüşümü, logaritmik dönüşüm ve Diskret Kosinüs Dönüşümü (DCT) bulunur. Bu işlemler, ses sinyalinin frekans bileşenlerini analiz eder ve insan kulağının frekans algısına benzer bir şekilde özellikler çıkarır.\n",
    "\n",
    "Modelin detaylarına gelince, bu model ses sinyallerini sınıflandırmak için derin bir sinir ağı kullanır. Model, ses sinyallerinin MFCC özelliklerini alır ve bu özellikleri kullanarak sesin hangi kategoriye ait olduğunu tahmin eder. Modelin yapısı, katman sayısı, nöron sayısı, aktivasyon fonksiyonları ve diğer hiperparametreler, modelin performansını ve genelleme yeteneğini etkileyen önemli faktörlerdir. Eğitim sürecinde, modelin ağırlıkları geri yayılım algoritması kullanılarak güncellenir ve modelin doğruluğu arttırılır. Eğitim sonunda, modelin test verileri üzerindeki doğruluğu, modelin ne kadar iyi öğrendiğinin bir göstergesidir.\n"
   ]
  },
  {
   "cell_type": "markdown",
   "id": "894a418e-406e-4e29-900d-187d07b4b4f1",
   "metadata": {},
   "source": [
    "## DERİN ÖĞRENME KULLANARAK SES SİNYALİ SINIFLANDIRMA\r\n",
    "\r\n",
    "Bu proje 3 ana adımdan oluşmaktadır:\r\n",
    "\r\n",
    "1. Adım: Veri setimizi analiz için hazırlayacağız ve Mel-Frekansı Kepstral Katsayıları (MFCC) kullanarak ses dosyalarından ses sinyali özellikleri çıkaracağız.\r\n",
    "\r\n",
    "2. Daha sonra bir Evrişimli Sinir Ağları (CNN) modeli oluşturacağız ve modelimizi veri setimizle eğiteceğiz.\r\n",
    "\r\n",
    "3. Son olarak, modelimizi kullanarak bir ses dosyasının sınıfını tahmin edeceğiz.\r\n",
    "\r\n",
    "UrbanSound8K Veri Setini kullanacağız, indirme bağlantısı burada: https://urbansounddataset.weebly.com/download-urbansound8k.hight=\"250\">\n",
    "    \n",
    "\n",
    "        "
   ]
  },
  {
   "cell_type": "markdown",
   "id": "35883a40-666c-4559-bbb6-837c8e94b627",
   "metadata": {},
   "source": [
    "### Adım 1: Veri setimizi analiz için hazırlayacağız ve ses sinyali özelliklerini ses dosyalarından Mel-Frekans Kepstral Katsayıları (MFCC) kullanarak çıkaracağız."
   ]
  },
  {
   "cell_type": "markdown",
   "id": "81efe6a2-e410-4a46-8333-1aefc5c03f11",
   "metadata": {},
   "source": [
    "Mel Frekansı Kepstral Katsayıları (MFCC), ses işleme ve özellikle konuşma tanıma alanında yaygın olarak kullanılan bir özellik çıkarma tekniğidir. MFCC, ses sinyallerinin kısa vadeli güç spektrumunun bir temsilidir ve insan kulağının frekans algısını taklit eden bir ölçek üzerinde çalışır. İşte MFCC’nin temel adımları ve özellikleri:\n",
    "\n",
    "Sinyal Örnekleme: Ses sinyali, belirli bir örnekleme frekansında örneklenir.\n",
    "Hamming Penceresi: Sinyal, kısa sürelerle ve her bir örneği birbirinden ayrılmış şekilde işlenir.\n",
    "**FFT (Hızlı Fourier Dönüşümü)**: Hamming penceresi boyunca sinyal işlendikten sonra FFT uygulanır ve sinyal frekans bileşenlerine ayrılır.\n",
    "Mel Filtre Bankası: Frekans bileşenleri, Mel ölçeğinde ölçeklendirilir. Bu ölçek, insan kulağının frekans duyarlılığına benzer.\n",
    "**Logaritmik Dönüşüm**: Mel filtre bankası çıktısı üzerinde logaritmik dönüşüm uygulanır.\n",
    "**Kepstral Katsayıları**: Logaritmik dönüşüm sonrası elde edilen değerler, Kepstral katsayıları olarak adlandırılır ve sesin karakteristik özelliklerini temsil eder.\n",
    "MFCC özellikleri, konuşma tanıma, konuşma sentezi ve müzik sınıflandırma gibi uygulamalarda kullanılır. Python’da, librosa kütüphanesi MFCC özelliklerini çıkarmak için sıklıkla kullanılır. Bu kütüphane, ses dosyalarından MFCC özelliklerini çıkarmak ve bunları görselleştirmek için kullanışlı fonksiyonlar sağlar\n",
    "\n",
    "Detaylı bilgi için, ses işleme alanında MFCC ve GMM (Gaussian Mixture Model) tekniklerine dair açıklamalar yapan ve Python dilinde örnek kodlar veren bir makaleye göz atabilirsiniz. Ayrıca, MFCC’nin önemini ve ses tanıma uygulamalarındaki yerini anlatan başka bir makale de mevcuttur.. mevcutturğız."
   ]
  },
  {
   "cell_type": "markdown",
   "id": "b286fd33-010f-4784-85fd-41caa7b3e2a6",
   "metadata": {},
   "source": [
    "### Fourier Dönüşümü (FT):\n",
    " Ses sinyalinin zaman domeninden frekans domenine dönüştürülmesi için kullanılır. Bu, sinyalin frekans bileşenlerini analiz etmek için temel bir adımdır."
   ]
  },
  {
   "cell_type": "markdown",
   "id": "9bd40017-89c1-4122-8abf-5561943cea56",
   "metadata": {},
   "source": [
    "$$ X(k) = \\sum_{n=0}^{N-1} x(n) \\cdot e^{-\\frac{i2\\pi}{N}kn} $$"
   ]
  },
  {
   "cell_type": "markdown",
   "id": "01198815-2896-44b6-ba35-1ff17dd2d729",
   "metadata": {},
   "source": [
    "### Mel Ölçeği:\n",
    "İnsan kulağının frekans algısını taklit eden bir ölçektir. Gerçek frekansları Mel ölçeğine dönüştürerek, insan kulağının duyarlı olduğu frekans aralıklarına daha fazla ağırlık verilir."
   ]
  },
  {
   "cell_type": "markdown",
   "id": "0491fb2d-b855-44ff-ae07-47f99d3831dd",
   "metadata": {},
   "source": [
    "$$ M(f) = 2595 \\cdot \\log_{10}\\left(1 + \\frac{f}{700}\\right) $$\r\n"
   ]
  },
  {
   "cell_type": "code",
   "execution_count": null,
   "id": "e02a8a27-2b79-4e53-a864-3db33d9158bb",
   "metadata": {},
   "outputs": [],
   "source": []
  },
  {
   "cell_type": "markdown",
   "id": "f03b46df-171f-4de9-a9ab-8bce1716fcf3",
   "metadata": {},
   "source": [
    "### Mel Filtre Bankası:\n",
    "Frekans spektrumunu Mel ölçeğine göre bantlara ayırır. Bu üçgen filtreler, ses sinyalinin belirli frekans aralıklarındaki enerjisini toplar."
   ]
  },
  {
   "cell_type": "markdown",
   "id": "c42db16c-43cf-43ba-a963-f1f1c2af3995",
   "metadata": {},
   "source": [
    "$$\r\n",
    "H_m(k) = \\begin{cases} \r\n",
    "0, & \\text{for } k < f(m-1) \\\\\r\n",
    "\\frac{k - f(m-1)}{f(m) - f(m-1)}, & \\text{for } f(m-1) \\leq k \\leq f(m) \\\\\r\n",
    "\\frac{f(m+1) - k}{f(m+1) - f(m)}, & \\text{for } f(m) \\leq k \\leq f(m+1) \\\\\r\n",
    "0, & \\text{for } k > f(m+1)\r\n",
    "\\end{cases}\r\n",
    "$$\r\n"
   ]
  },
  {
   "cell_type": "markdown",
   "id": "4153f559-dc9b-46d3-85b8-c88f12be3fdd",
   "metadata": {},
   "source": [
    "### Logaritmik Dönüşüm:\n",
    "Mel spektrumunun logaritmasını alarak, sinyalin spektral bileşenlerinin dinamik aralığını sıkıştırır. Bu, sinyalin daha kararlı bir temsilini sağlar."
   ]
  },
  {
   "cell_type": "markdown",
   "id": "ecf7fcdf-c00c-4fb3-acd9-d64fca32514b",
   "metadata": {},
   "source": [
    "$$ \\log S(m) $$\n"
   ]
  },
  {
   "cell_type": "markdown",
   "id": "ef5fa532-10d2-4a3c-8f48-fe5b00f496ba",
   "metadata": {},
   "source": [
    "### Diskret Kosinüs Dönüşümü (DCT):\n",
    " Logaritmik Mel spektrumunu kepstral katsayılara dönüştürür. Bu adım, sinyalin özelliklerini daha az korelasyonlu ve daha kompakt bir formda ifade eder."
   ]
  },
  {
   "cell_type": "markdown",
   "id": "da063911-c04b-4518-8045-df77f058a779",
   "metadata": {},
   "source": [
    "$$ C(n) = \\sum_{m=0}^{M-1} \\log S(m) \\cdot \\cos\\left[n(m - \\frac{1}{2})\\frac{\\pi}{M}\\right] $$\n"
   ]
  },
  {
   "cell_type": "code",
   "execution_count": 1,
   "id": "6a31d078-3c15-4b0f-adea-6882e80f26f2",
   "metadata": {},
   "outputs": [
    {
     "name": "stdout",
     "output_type": "stream",
     "text": [
      "2.16.1\n"
     ]
    }
   ],
   "source": [
    "import tensorflow as tf\n",
    "print(tf.__version__)"
   ]
  },
  {
   "cell_type": "code",
   "execution_count": 2,
   "id": "df5300a5-5f5c-48a3-9013-dc04a500252e",
   "metadata": {},
   "outputs": [],
   "source": [
    "import matplotlib.pyplot as plt\n",
    "import pandas as pd\n",
    "import os\n",
    "import librosa\n",
    "import numpy as np\n",
    "from tqdm import tqdm\n",
    "from sklearn.model_selection import train_test_split\n",
    "from tensorflow.keras.utils import to_categorical\n",
    "from sklearn.preprocessing import LabelEncoder\n",
    "from tensorflow.keras.models import Sequential\n",
    "from tensorflow.keras.layers import Dense,Dropout,Activation,Flatten\n",
    "from tensorflow.keras.optimizers import Adam\n",
    "from sklearn import metrics\n",
    "from tensorflow.keras.callbacks import ModelCheckpoint\n",
    "from datetime import datetime "
   ]
  },
  {
   "cell_type": "code",
   "execution_count": 3,
   "id": "ff8ace3d-9bfb-40f6-929d-a3826f6188c6",
   "metadata": {},
   "outputs": [],
   "source": [
    "audio_file_path='\\DeepLearningAudioProcessing\\RespiratorySoundDatabase\\Respiratory_Sound_Database\\Respiratory_Sound_Database/101_1b1_Al_sc_Meditron.wav'\n",
    "\n",
    "librosa_audio_data, librosa_sample_rate = librosa.load(audio_file_path)"
   ]
  },
  {
   "cell_type": "code",
   "execution_count": 4,
   "id": "ae92becd-d275-4adf-afe9-5ccd7f50507b",
   "metadata": {},
   "outputs": [
    {
     "name": "stdout",
     "output_type": "stream",
     "text": [
      "[ 3.4924597e-10  3.4924597e-10  4.6566129e-10 ... -7.9498515e-03\n",
      " -7.7366987e-03 -8.0531817e-03]\n"
     ]
    }
   ],
   "source": [
    "print(librosa_audio_data)"
   ]
  },
  {
   "cell_type": "code",
   "execution_count": 5,
   "id": "28b990a6-4569-4bf8-9f22-56da4bf080bb",
   "metadata": {},
   "outputs": [
    {
     "data": {
      "image/png": "[encoded data removed]",
      "text/plain": [
       "<Figure size 1200x400 with 1 Axes>"
      ]
     },
     "metadata": {},
     "output_type": "display_data"
    }
   ],
   "source": [
    "# Matplotlib kütüphanesinin 'figure' fonksiyonu ile bir grafik çerçevesi oluşturuyoruz.\n",
    "# 'figsize' parametresi ile grafiğin boyutunu belirliyoruz (genişlik, yükseklik).\n",
    "plt.figure(figsize=(12, 4))\n",
    "\n",
    "# 'plot' fonksiyonu ile 'librosa_audio_data' içindeki ses verilerini çizgi grafiği olarak çiziyoruz.\n",
    "plt.plot(librosa_audio_data)\n",
    "\n",
    "# 'show' fonksiyonu ile grafiği gösteriyoruz.\n",
    "plt.show()\n"
   ]
  },
  {
   "cell_type": "code",
   "execution_count": 6,
   "id": "c4e21ffb-8eed-41bc-8c5f-688401208d3a",
   "metadata": {},
   "outputs": [],
   "source": [
    "# Lets read with scipy\n",
    "# 'scipy.io' modülünden 'wavfile' fonksiyonunu 'wav' olarak içe aktarıyoruz.\n",
    "from scipy.io import wavfile as wav\n",
    "\n",
    "# 'wav.read' fonksiyonunu kullanarak ses dosyasını okuyoruz.\n",
    "# 'audio_file_path' değişkeni, okunacak ses dosyasının yolunu belirtir.\n",
    "# Bu fonksiyon, ses dosyasının örnekleme oranını ('wave_sample_rate') ve ses verilerini ('wave_audio') döndürür.\n",
    "wave_sample_rate, wave_audio = wav.read(audio_file_path)\n"
   ]
  },
  {
   "cell_type": "code",
   "execution_count": 7,
   "id": "700f6c87-11d4-42bd-8206-c434628ff205",
   "metadata": {},
   "outputs": [
    {
     "data": {
      "text/plain": [
       "array([[   0,    0],\n",
       "       [   0,    0],\n",
       "       [   0,    0],\n",
       "       ...,\n",
       "       [-399, -115],\n",
       "       [-388, -111],\n",
       "       [-386, -105]], dtype=int16)"
      ]
     },
     "execution_count": 7,
     "metadata": {},
     "output_type": "execute_result"
    }
   ],
   "source": [
    "# 'wave_audio' değişkeni, okunan ses dosyasının ses verilerini içerir.\n",
    "# Bu veriler, ses dalgalarının amplitüd değerlerini temsil eder ve ses işleme veya analizi için kullanılabilir.\n",
    "wave_audio\n"
   ]
  },
  {
   "cell_type": "code",
   "execution_count": 8,
   "id": "c6136037-648f-4625-86c3-1fa04fd897df",
   "metadata": {
    "scrolled": true
   },
   "outputs": [
    {
     "data": {
      "image/png": "[encoded data removed]",
      "text/plain": [
       "<Figure size 1200x400 with 1 Axes>"
      ]
     },
     "metadata": {},
     "output_type": "display_data"
    }
   ],
   "source": [
    "# 'plt.figure' fonksiyonu ile bir grafik çerçevesi oluşturuyoruz ve 'figsize' parametresi ile grafiğin boyutunu ayarlıyoruz.\n",
    "plt.figure(figsize=(12, 4))\n",
    "\n",
    "# 'plt.plot' fonksiyonu ile 'wave_audio' içindeki ses verilerini çizgi grafiği olarak çiziyoruz.\n",
    "# 'wave_audio' iki kanallı bir ses dosyasından gelen verileri içerir, bu yüzden grafiğin iki ayrı çizgisi olacak.\n",
    "plt.plot(wave_audio)\n",
    "\n",
    "# 'plt.show' fonksiyonu ile oluşturduğumuz grafiği gösteriyoruz.\n",
    "plt.show()\n"
   ]
  },
  {
   "cell_type": "markdown",
   "id": "401febba-c6f3-448d-944f-dcae3484c845",
   "metadata": {},
   "source": [
    "### Özellik Çıkarma\r\n",
    "Burada, ses örneklerinden Mel-Frekans Kepstral Katsayıları (MFCC) kullanacağız. MFCC, pencere boyutu boyunca frekans dağılımını özetler, böylece sesin hem frekans hem de zaman özelliklerini analiz etmek mümkündür. Bu ses temsilleri, sınıflandırma için özellikleri belirlememize olanak tanıyacaktır."
   ]
  },
  {
   "cell_type": "code",
   "execution_count": 9,
   "id": "5d1039ad-a41d-48d2-90c3-0c3cc5d18bfc",
   "metadata": {},
   "outputs": [
    {
     "name": "stdout",
     "output_type": "stream",
     "text": [
      "(40, 173)\n"
     ]
    }
   ],
   "source": [
    "# 'librosa.feature.mfcc' fonksiyonu ile Mel Frekansı Kepstral Katsayıları (MFCC) hesaplıyoruz.\n",
    "# 'y' parametresi olarak ses verilerini, 'sr' parametresi olarak örnekleme oranını ve 'n_mfcc' parametresi olarak döndürülecek MFCC sayısını belirtiyoruz.\n",
    "mfccs = librosa.feature.mfcc(y=librosa_audio_data, sr=librosa_sample_rate, n_mfcc=40)\n",
    "\n",
    "# Hesaplanan MFCC'lerin şeklini (boyutlarını) yazdırıyoruz.\n",
    "# Bu, MFCC matrisinin kaç örnek (satır) ve özellik (sütun) içerdiğini gösterir.\n",
    "print(mfccs.shape)\n"
   ]
  },
  {
   "cell_type": "code",
   "execution_count": 10,
   "id": "9b0dd894-3491-4b15-a0c8-73812e50f21a",
   "metadata": {},
   "outputs": [
    {
     "data": {
      "text/plain": [
       "array([[-5.7041687e+02, -5.0580988e+02, -4.4661017e+02, ...,\n",
       "        -4.8128598e+02, -4.7245932e+02, -4.6425366e+02],\n",
       "       [ 3.2360130e+01,  9.3758621e+01,  1.4270895e+02, ...,\n",
       "         1.0403226e+02,  1.1474982e+02,  1.1683809e+02],\n",
       "       [ 2.6088989e+01,  3.4996727e+01,  4.0650406e+01, ...,\n",
       "         1.1899885e+01,  1.7138729e+01,  1.3889361e+01],\n",
       "       ...,\n",
       "       [ 5.9291601e-01,  2.7261462e+00, -2.6107330e+00, ...,\n",
       "        -2.7341046e+00, -3.7576494e+00, -5.8963108e+00],\n",
       "       [-1.3069378e+00, -2.1206622e+00, -9.1924393e-01, ...,\n",
       "        -1.2278577e+00, -3.3734822e+00, -4.1975555e+00],\n",
       "       [-2.0638499e+00, -2.9027801e+00,  2.7278209e-01, ...,\n",
       "        -1.3872120e+00, -3.3259065e+00, -8.4930527e-01]], dtype=float32)"
      ]
     },
     "execution_count": 10,
     "metadata": {},
     "output_type": "execute_result"
    }
   ],
   "source": [
    "mfccs"
   ]
  },
  {
   "cell_type": "code",
   "execution_count": 11,
   "id": "efa51177-f3ee-4f96-b977-d81af310ade1",
   "metadata": {},
   "outputs": [
    {
     "data": {
      "text/html": [
       "<div>\n",
       "<style scoped>\n",
       "    .dataframe tbody tr th:only-of-type {\n",
       "        vertical-align: middle;\n",
       "    }\n",
       "\n",
       "    .dataframe tbody tr th {\n",
       "        vertical-align: top;\n",
       "    }\n",
       "\n",
       "    .dataframe thead th {\n",
       "        text-align: right;\n",
       "    }\n",
       "</style>\n",
       "<table border=\"1\" class=\"dataframe\">\n",
       "  <thead>\n",
       "    <tr style=\"text-align: right;\">\n",
       "      <th></th>\n",
       "      <th>slice_file_name</th>\n",
       "      <th>fsID</th>\n",
       "      <th>start</th>\n",
       "      <th>end</th>\n",
       "      <th>salience</th>\n",
       "      <th>fold</th>\n",
       "      <th>classID</th>\n",
       "      <th>class</th>\n",
       "    </tr>\n",
       "  </thead>\n",
       "  <tbody>\n",
       "    <tr>\n",
       "      <th>0</th>\n",
       "      <td>100032-3-0-0.wav</td>\n",
       "      <td>100032</td>\n",
       "      <td>0.0</td>\n",
       "      <td>0.317551</td>\n",
       "      <td>1</td>\n",
       "      <td>5</td>\n",
       "      <td>3</td>\n",
       "      <td>dog_bark</td>\n",
       "    </tr>\n",
       "    <tr>\n",
       "      <th>1</th>\n",
       "      <td>100263-2-0-117.wav</td>\n",
       "      <td>100263</td>\n",
       "      <td>58.5</td>\n",
       "      <td>62.500000</td>\n",
       "      <td>1</td>\n",
       "      <td>5</td>\n",
       "      <td>2</td>\n",
       "      <td>children_playing</td>\n",
       "    </tr>\n",
       "    <tr>\n",
       "      <th>2</th>\n",
       "      <td>100263-2-0-121.wav</td>\n",
       "      <td>100263</td>\n",
       "      <td>60.5</td>\n",
       "      <td>64.500000</td>\n",
       "      <td>1</td>\n",
       "      <td>5</td>\n",
       "      <td>2</td>\n",
       "      <td>children_playing</td>\n",
       "    </tr>\n",
       "    <tr>\n",
       "      <th>3</th>\n",
       "      <td>100263-2-0-126.wav</td>\n",
       "      <td>100263</td>\n",
       "      <td>63.0</td>\n",
       "      <td>67.000000</td>\n",
       "      <td>1</td>\n",
       "      <td>5</td>\n",
       "      <td>2</td>\n",
       "      <td>children_playing</td>\n",
       "    </tr>\n",
       "    <tr>\n",
       "      <th>4</th>\n",
       "      <td>100263-2-0-137.wav</td>\n",
       "      <td>100263</td>\n",
       "      <td>68.5</td>\n",
       "      <td>72.500000</td>\n",
       "      <td>1</td>\n",
       "      <td>5</td>\n",
       "      <td>2</td>\n",
       "      <td>children_playing</td>\n",
       "    </tr>\n",
       "  </tbody>\n",
       "</table>\n",
       "</div>"
      ],
      "text/plain": [
       "      slice_file_name    fsID  start        end  salience  fold  classID  \\\n",
       "0    100032-3-0-0.wav  100032    0.0   0.317551         1     5        3   \n",
       "1  100263-2-0-117.wav  100263   58.5  62.500000         1     5        2   \n",
       "2  100263-2-0-121.wav  100263   60.5  64.500000         1     5        2   \n",
       "3  100263-2-0-126.wav  100263   63.0  67.000000         1     5        2   \n",
       "4  100263-2-0-137.wav  100263   68.5  72.500000         1     5        2   \n",
       "\n",
       "              class  \n",
       "0          dog_bark  \n",
       "1  children_playing  \n",
       "2  children_playing  \n",
       "3  children_playing  \n",
       "4  children_playing  "
      ]
     },
     "execution_count": 11,
     "metadata": {},
     "output_type": "execute_result"
    }
   ],
   "source": [
    "# Ses veri setinin yolunu tanımlıyoruz.\n",
    "audio_dataset_path='UrbanSound8K/audio/'\n",
    "\n",
    "# UrbanSound8K veri setinin metaverilerini içeren CSV dosyasını okuyoruz.\n",
    "metadata=pd.read_csv('UrbanSound8K/metadata/UrbanSound8K.csv')\n",
    "\n",
    "# Metaverilerin başını (ilk beş satırını) yazdırıyoruz.\n",
    "metadata.head()\n"
   ]
  },
  {
   "cell_type": "code",
   "execution_count": 12,
   "id": "54ae6b4b-070c-4c75-87f6-963590bc01e6",
   "metadata": {},
   "outputs": [],
   "source": [
    "def features_extractor(filename):\n",
    "    # Librosa ile ses dosyasını yükleyin ve örnekleme hızını alın.\n",
    "    audio, sample_rate = librosa.load(filename, res_type='kaiser_fast')\n",
    "    \n",
    "    # Ses sinyalinin uzunluğunu kontrol edin ve n_fft parametresini buna göre ayarlayın.\n",
    "    # n_fft, kısa zamanlı Fourier dönüşümü penceresinin boyutudur.\n",
    "    n_fft_value = min(2048, len(audio))\n",
    "    \n",
    "    # MFCC özelliklerini hesaplayın. n_mfcc parametresi, döndürülecek MFCC sayısını belirtir.\n",
    "    mfccs_features = librosa.feature.mfcc(y=audio, sr=sample_rate, n_mfcc=40, n_fft=n_fft_value)\n",
    "    \n",
    "    # MFCC özelliklerinin zaman ekseninde ortalamasını alın ve ölçeklendirin.\n",
    "    mfccs_scaled_features = np.mean(mfccs_features.T,axis=0)\n",
    "    \n",
    "    # Ölçeklendirilmiş özellikleri döndürün.\n",
    "    return mfccs_scaled_features\n",
    "\n"
   ]
  },
  {
   "cell_type": "code",
   "execution_count": 14,
   "id": "f7b1d636-c01d-489b-a832-e8c3f6bcfde7",
   "metadata": {},
   "outputs": [
    {
     "name": "stderr",
     "output_type": "stream",
     "text": [
      "8732it [05:20, 27.24it/s]\n"
     ]
    }
   ],
   "source": [
    "# Boş bir liste oluşturarak başlayın. Bu liste, çıkarılan özellikleri ve sınıf etiketlerini saklayacak.\n",
    "extracted_features=[]\n",
    "\n",
    "# 'metadata' DataFrame'indeki her satır için bir döngü başlatın.\n",
    "# 'tqdm' fonksiyonu, işlemin ilerlemesini görsel bir çubukla gösterir.\n",
    "for index_num, row in tqdm(metadata.iterrows()):\n",
    "    # Ses dosyasının tam yolunu oluşturun.\n",
    "    file_name = os.path.join(os.path.abspath(audio_dataset_path),'fold'+str(row[\"fold\"])+'/',str(row[\"slice_file_name\"]))\n",
    "    \n",
    "    # Her ses dosyasının sınıf etiketini alın.\n",
    "    final_class_labels=row[\"class\"]\n",
    "    \n",
    "    # 'features_extractor' fonksiyonunu kullanarak ses dosyasından özellikleri çıkarın.\n",
    "    data=features_extractor(file_name)\n",
    "    \n",
    "    # Çıkarılan özellikleri ve sınıf etiketlerini 'extracted_features' listesine ekleyin.\n",
    "    extracted_features.append([data,final_class_labels])\n"
   ]
  },
  {
   "cell_type": "code",
   "execution_count": 63,
   "id": "b340814e-880a-46a2-837c-fcea20aa836b",
   "metadata": {},
   "outputs": [
    {
     "data": {
      "text/html": [
       "<div>\n",
       "<style scoped>\n",
       "    .dataframe tbody tr th:only-of-type {\n",
       "        vertical-align: middle;\n",
       "    }\n",
       "\n",
       "    .dataframe tbody tr th {\n",
       "        vertical-align: top;\n",
       "    }\n",
       "\n",
       "    .dataframe thead th {\n",
       "        text-align: right;\n",
       "    }\n",
       "</style>\n",
       "<table border=\"1\" class=\"dataframe\">\n",
       "  <thead>\n",
       "    <tr style=\"text-align: right;\">\n",
       "      <th></th>\n",
       "      <th>feature</th>\n",
       "      <th>class</th>\n",
       "    </tr>\n",
       "  </thead>\n",
       "  <tbody>\n",
       "    <tr>\n",
       "      <th>0</th>\n",
       "      <td>[-217.35526, 70.22339, -130.38527, -53.282898,...</td>\n",
       "      <td>dog_bark</td>\n",
       "    </tr>\n",
       "    <tr>\n",
       "      <th>1</th>\n",
       "      <td>[-424.09818, 109.34077, -52.919525, 60.86475, ...</td>\n",
       "      <td>children_playing</td>\n",
       "    </tr>\n",
       "    <tr>\n",
       "      <th>2</th>\n",
       "      <td>[-458.79114, 121.38419, -46.520657, 52.00812, ...</td>\n",
       "      <td>children_playing</td>\n",
       "    </tr>\n",
       "    <tr>\n",
       "      <th>3</th>\n",
       "      <td>[-413.89984, 101.66371, -35.42945, 53.036354, ...</td>\n",
       "      <td>children_playing</td>\n",
       "    </tr>\n",
       "    <tr>\n",
       "      <th>4</th>\n",
       "      <td>[-446.60352, 113.68541, -52.402218, 60.302044,...</td>\n",
       "      <td>children_playing</td>\n",
       "    </tr>\n",
       "  </tbody>\n",
       "</table>\n",
       "</div>"
      ],
      "text/plain": [
       "                                             feature             class\n",
       "0  [-217.35526, 70.22339, -130.38527, -53.282898,...          dog_bark\n",
       "1  [-424.09818, 109.34077, -52.919525, 60.86475, ...  children_playing\n",
       "2  [-458.79114, 121.38419, -46.520657, 52.00812, ...  children_playing\n",
       "3  [-413.89984, 101.66371, -35.42945, 53.036354, ...  children_playing\n",
       "4  [-446.60352, 113.68541, -52.402218, 60.302044,...  children_playing"
      ]
     },
     "execution_count": 63,
     "metadata": {},
     "output_type": "execute_result"
    }
   ],
   "source": [
    "# 'extracted_features' listesini bir Pandas DataFrame'ine dönüştürün.\n",
    "# Bu DataFrame, her ses dosyasının özelliklerini ve sınıf etiketlerini içerecek.\n",
    "extracted_features_df = pd.DataFrame(extracted_features, columns=['feature', 'class'])\n",
    "\n",
    "# Oluşturulan DataFrame'in ilk beş satırını görüntüleyin.\n",
    "# Bu, verilerin doğru bir şekilde yüklendiğini ve istenen formatta olduğunu kontrol etmek için kullanışlıdır.\n",
    "extracted_features_df.head()\n"
   ]
  },
  {
   "cell_type": "code",
   "execution_count": 64,
   "id": "c1cdd8fa-e7c3-460f-b712-fa63de9f055c",
   "metadata": {},
   "outputs": [],
   "source": [
    "# Veri setini bağımsız ve bağımlı veri setlerine ayırıyoruz.\n",
    "# 'feature' sütunundaki özellikleri numpy dizisine dönüştürerek bağımsız değişkenlerimizi (X) oluşturuyoruz.\n",
    "X = np.array(extracted_features_df['feature'].tolist())\n",
    "\n",
    "# 'class' sütunundaki sınıf etiketlerini numpy dizisine dönüştürerek bağımlı değişkenlerimizi (y) oluşturuyoruz.\n",
    "y = np.array(extracted_features_df['class'].tolist())\n"
   ]
  },
  {
   "cell_type": "code",
   "execution_count": 65,
   "id": "509618a7-e504-4ab9-96f3-e6a2b5bb0da8",
   "metadata": {},
   "outputs": [
    {
     "data": {
      "text/plain": [
       "(8732, 40)"
      ]
     },
     "execution_count": 65,
     "metadata": {},
     "output_type": "execute_result"
    }
   ],
   "source": [
    "# 'X' numpy dizisinin şeklini (boyutlarını) sorgulayarak, \n",
    "# özellikler matrisinin kaç örnek (satır) ve özellik (sütun) içerdiğini kontrol ediyoruz.\n",
    "X.shape\n"
   ]
  },
  {
   "cell_type": "code",
   "execution_count": 66,
   "id": "f3dd8b01-9be7-411c-b640-2f03592a0c44",
   "metadata": {},
   "outputs": [
    {
     "data": {
      "text/plain": [
       "array([[-2.1735526e+02,  7.0223389e+01, -1.3038527e+02, ...,\n",
       "        -1.6930532e+00, -6.1698347e-01,  3.8600525e-01],\n",
       "       [-4.2409818e+02,  1.0934077e+02, -5.2919525e+01, ...,\n",
       "         5.3489304e-01, -5.4468733e-01,  4.4632089e-01],\n",
       "       [-4.5879114e+02,  1.2138419e+02, -4.6520657e+01, ...,\n",
       "         2.0768483e+00,  1.6962965e+00, -9.6140963e-01],\n",
       "       ...,\n",
       "       [-3.0388824e+02,  1.1135945e+02, -4.5941566e+01, ...,\n",
       "        -3.0292377e+00,  2.7170296e+00,  7.6197419e+00],\n",
       "       [-3.4411008e+02,  1.2545021e+02, -5.4903442e+01, ...,\n",
       "        -7.9082427e+00, -1.6414586e+00,  5.6668439e+00],\n",
       "       [-3.1560281e+02,  9.4854805e+01, -3.7222340e+01, ...,\n",
       "         6.1386460e-01, -1.1449189e+01, -6.0105853e+00]], dtype=float32)"
      ]
     },
     "execution_count": 66,
     "metadata": {},
     "output_type": "execute_result"
    }
   ],
   "source": [
    "# 'X' dizisini yazdırarak, çıkarılan özelliklerin her bir örneğini gözlemleyebiliriz.\n",
    "# Bu, veri setimizin nasıl göründüğünü ve her bir özelliğin değerlerini kontrol etmek için kullanılır.\n",
    "X\n"
   ]
  },
  {
   "cell_type": "code",
   "execution_count": 67,
   "id": "642ae8e3-654b-4951-bd6d-8615b413181f",
   "metadata": {},
   "outputs": [
    {
     "data": {
      "text/plain": [
       "array(['dog_bark', 'children_playing', 'children_playing', ...,\n",
       "       'car_horn', 'car_horn', 'car_horn'], dtype='<U16')"
      ]
     },
     "execution_count": 67,
     "metadata": {},
     "output_type": "execute_result"
    }
   ],
   "source": [
    "# 'y' dizisini yazdırarak, her bir ses dosyasının karşılık geldiği sınıf etiketlerini gözlemleyebiliriz.\n",
    "# Bu, modelimizin tahmin etmeye çalıştığı sınıfların ne olduğunu kontrol etmek için kullanılır.\n",
    "y\n"
   ]
  },
  {
   "cell_type": "code",
   "execution_count": 68,
   "id": "111777b9-bd8d-4f6e-bd6e-8c3555e8d99d",
   "metadata": {},
   "outputs": [
    {
     "data": {
      "text/plain": [
       "(8732,)"
      ]
     },
     "execution_count": 68,
     "metadata": {},
     "output_type": "execute_result"
    }
   ],
   "source": [
    "y.shape"
   ]
  },
  {
   "cell_type": "code",
   "execution_count": 69,
   "id": "47880461-7574-4179-87a2-cb5afc3b0ac7",
   "metadata": {},
   "outputs": [],
   "source": [
    "# Etiket Kodlama (Label Encoding) yapılıyor çünkü modelimizde çıktı sınıfları için tek sıcak kodlanmış değerlere (1'ler ve 0'lar) ihtiyacımız var.\n",
    "\n",
    "# Tek sıcak kodlama (One-hot encoding) şu şekilde hatırlanmalıdır:\n",
    "# 1 0 0 0 0 0 0 0 0 0 => klima (air_conditioner)\n",
    "# 0 1 0 0 0 0 0 0 0 0 => araba kornası (car_horn)\n",
    "# 0 0 1 0 0 0 0 0 0 0 => çocukların oyunu (children_playing)\n",
    "# 0 0 0 1 0 0 0 0 0 0 => köpek havlaması (dog_bark)\n",
    "# ...\n",
    "# 0 0 0 0 0 0 0 0 0 1 => sokak müziği (street_music)\n",
    "\n",
    "# LabelEncoder nesnesini başlat\n",
    "labelencoder=LabelEncoder()\n",
    "\n",
    "# 'y' etiketlerini sayısal formata dönüştür ve one-hot encoding uygula\n",
    "y=to_categorical(labelencoder.fit_transform(y))\n"
   ]
  },
  {
   "cell_type": "code",
   "execution_count": 70,
   "id": "5b863bf7-795b-418c-a2d9-84a6292c5a80",
   "metadata": {},
   "outputs": [
    {
     "data": {
      "text/plain": [
       "array([[0., 0., 0., ..., 0., 0., 0.],\n",
       "       [0., 0., 1., ..., 0., 0., 0.],\n",
       "       [0., 0., 1., ..., 0., 0., 0.],\n",
       "       ...,\n",
       "       [0., 1., 0., ..., 0., 0., 0.],\n",
       "       [0., 1., 0., ..., 0., 0., 0.],\n",
       "       [0., 1., 0., ..., 0., 0., 0.]])"
      ]
     },
     "execution_count": 70,
     "metadata": {},
     "output_type": "execute_result"
    }
   ],
   "source": [
    "y"
   ]
  },
  {
   "cell_type": "code",
   "execution_count": 23,
   "id": "7c3aca10-2a6a-429e-b5ed-39fab933fb7e",
   "metadata": {},
   "outputs": [
    {
     "data": {
      "text/plain": [
       "array([0., 0., 0., 1., 0., 0., 0., 0., 0., 0.])"
      ]
     },
     "execution_count": 23,
     "metadata": {},
     "output_type": "execute_result"
    }
   ],
   "source": [
    "y[0]"
   ]
  },
  {
   "cell_type": "code",
   "execution_count": 24,
   "id": "f9d1cd78-7707-4a85-859c-42b1489fd04c",
   "metadata": {},
   "outputs": [],
   "source": [
    "X_train,X_test,y_train,y_test=train_test_split(X,y,test_size=0.2,random_state=0)"
   ]
  },
  {
   "cell_type": "code",
   "execution_count": 25,
   "id": "b7554130-6b28-43c8-900f-a0ab2f993fa7",
   "metadata": {},
   "outputs": [
    {
     "data": {
      "text/plain": [
       "array([[-1.3110471e+02,  1.1250591e+02, -2.2574694e+01, ...,\n",
       "         3.2466519e+00, -1.3690238e+00,  2.7557547e+00],\n",
       "       [-1.3670342e+01,  9.1085083e+01, -7.7927332e+00, ...,\n",
       "        -3.2530508e+00, -5.2774525e+00, -1.5569715e+00],\n",
       "       [-4.9871544e+01,  2.6535299e-01, -2.0500937e+01, ...,\n",
       "         2.8545945e+00, -1.6092044e+00,  3.5248058e+00],\n",
       "       ...,\n",
       "       [-4.2701236e+02,  9.2623047e+01,  3.1293974e+00, ...,\n",
       "         7.4264121e-01,  7.3349077e-01,  7.1100914e-01],\n",
       "       [-1.4575461e+02,  1.3626578e+02, -3.3515522e+01, ...,\n",
       "         1.4681195e+00, -2.0091701e+00, -8.8218188e-01],\n",
       "       [-4.2103134e+02,  2.1065454e+02,  3.4906607e+00, ...,\n",
       "        -5.3888674e+00, -3.3713605e+00, -1.5665114e+00]], dtype=float32)"
      ]
     },
     "execution_count": 25,
     "metadata": {},
     "output_type": "execute_result"
    }
   ],
   "source": [
    "X_train"
   ]
  },
  {
   "cell_type": "code",
   "execution_count": 26,
   "id": "f2635fdf-9f37-4676-af89-f383202429d9",
   "metadata": {},
   "outputs": [
    {
     "data": {
      "text/plain": [
       "(8732, 10)"
      ]
     },
     "execution_count": 26,
     "metadata": {},
     "output_type": "execute_result"
    }
   ],
   "source": [
    "# 'y' dizisinin şeklini (boyutlarını) sorgulayarak, \n",
    "# sınıf etiketlerinin kaç örnek (satır) içerdiğini kontrol ediyoruz.\n",
    "y.shape\n"
   ]
  },
  {
   "cell_type": "code",
   "execution_count": 27,
   "id": "54126877-13c9-4b09-8abd-9811f915e3e6",
   "metadata": {},
   "outputs": [
    {
     "data": {
      "text/plain": [
       "(6985, 40)"
      ]
     },
     "execution_count": 27,
     "metadata": {},
     "output_type": "execute_result"
    }
   ],
   "source": [
    "# 'X_train' eğitim veri setinin şeklini (boyutlarını) sorgulayarak,\n",
    "# eğitim için kullanılacak özellikler matrisinin kaç örnek (satır) ve özellik (sütun) içerdiğini kontrol ediyoruz.\n",
    "X_train.shape\n"
   ]
  },
  {
   "cell_type": "code",
   "execution_count": 28,
   "id": "595eff14-f20e-4b01-bfb6-aed763480985",
   "metadata": {},
   "outputs": [
    {
     "data": {
      "text/plain": [
       "(1747, 40)"
      ]
     },
     "execution_count": 28,
     "metadata": {},
     "output_type": "execute_result"
    }
   ],
   "source": [
    "# 'X_test' test veri setinin şeklini (boyutlarını) sorgulayarak,\n",
    "# test için kullanılacak özellikler matrisinin kaç örnek (satır) ve özellik (sütun) içerdiğini kontrol ediyoruz.\n",
    "X_test.shape\n"
   ]
  },
  {
   "cell_type": "code",
   "execution_count": 29,
   "id": "99e022fb-b81e-4617-a6d8-0c975c7a04f9",
   "metadata": {},
   "outputs": [
    {
     "data": {
      "text/plain": [
       "(6985, 10)"
      ]
     },
     "execution_count": 29,
     "metadata": {},
     "output_type": "execute_result"
    }
   ],
   "source": [
    "# 'y_train' eğitim veri setindeki sınıf etiketlerinin şeklini (boyutlarını) sorgulayarak,\n",
    "# eğitim için kullanılacak sınıf etiketlerinin kaç örnek (satır) içerdiğini kontrol ediyoruz.\n",
    "y_train.shape\n"
   ]
  },
  {
   "cell_type": "code",
   "execution_count": 30,
   "id": "5d7e1f02-8b56-4f15-a234-38ab8f1aa71c",
   "metadata": {},
   "outputs": [
    {
     "data": {
      "text/plain": [
       "(1747, 10)"
      ]
     },
     "execution_count": 30,
     "metadata": {},
     "output_type": "execute_result"
    }
   ],
   "source": [
    "# 'y_test' test veri setindeki sınıf etiketlerinin şeklini (boyutlarını) sorgulayarak,\n",
    "# test için kullanılacak sınıf etiketlerinin kaç örnek (satır) içerdiğini kontrol ediyoruz.\n",
    "y_test.shape\n"
   ]
  },
  {
   "cell_type": "markdown",
   "id": "b335fee8-e875-441c-88d8-cd14559b9b5b",
   "metadata": {},
   "source": [
    "### Adım 2: Evrişimli Sinir Ağları (CNN) Modeli Oluşturma ve UrbanSound8K Veri Seti ile Modelimizi Eğitme.\r\n"
   ]
  },
  {
   "cell_type": "code",
   "execution_count": 33,
   "id": "75ee0ec0-71ea-4074-bf50-66c826f8edbf",
   "metadata": {},
   "outputs": [],
   "source": [
    "# Kaç sınıfımız var? Modelimizde bunu kullanmalıyız.\n",
    "num_labels = 10"
   ]
  },
  {
   "cell_type": "code",
   "execution_count": 34,
   "id": "b325750e-8853-4c11-ab30-3da639ba5a94",
   "metadata": {},
   "outputs": [],
   "source": [
    "# CNN modelimizin inşasına başlıyoruz.\n",
    "\n",
    "# Sequential modeli başlatılıyor.\n",
    "model=Sequential()\n",
    "\n",
    "# 1. gizli katman (hidden layer)\n",
    "model.add(Dense(125,input_shape=(40,))) # 40 özellik girişi ile 125 nöronlu yoğun katman ekleniyor.\n",
    "model.add(Activation('relu')) # ReLU aktivasyon fonksiyonu ekleniyor.\n",
    "model.add(Dropout(0.5)) # Aşırı uyumu önlemek için %50 oranında dropout uygulanıyor.\n",
    "\n",
    "# 2. gizli katman\n",
    "model.add(Dense(250)) # 250 nöronlu yoğun katman ekleniyor.\n",
    "model.add(Activation('relu')) # ReLU aktivasyon fonksiyonu ekleniyor.\n",
    "model.add(Dropout(0.5)) # Aşırı uyumu önlemek için %50 oranında dropout uygulanıyor.\n",
    "\n",
    "# 3. gizli katman\n",
    "model.add(Dense(125)) # 125 nöronlu yoğun katman ekleniyor.\n",
    "model.add(Activation('relu')) # ReLU aktivasyon fonksiyonu ekleniyor.\n",
    "model.add(Dropout(0.5)) # Aşırı uyumu önlemek için %50 oranında dropout uygulanıyor.\n",
    "\n",
    "# Çıktı katmanı\n",
    "model.add(Dense(num_labels)) # 'num_labels' sayıda nöron içeren yoğun katman ekleniyor (sınıf sayısı kadar).\n",
    "model.add(Activation('softmax')) # Softmax aktivasyon fonksiyonu ile olasılık dağılımı elde ediliyor.\n",
    "\n",
    "\n"
   ]
  },
  {
   "cell_type": "code",
   "execution_count": 35,
   "id": "2fcca26b-a499-4607-a7f8-a7af00797972",
   "metadata": {},
   "outputs": [
    {
     "data": {
      "text/html": [
       "<pre style=\"white-space:pre;overflow-x:auto;line-height:normal;font-family:Menlo,'DejaVu Sans Mono',consolas,'Courier New',monospace\"><span style=\"font-weight: bold\">Model: \"sequential_1\"</span>\n",
       "</pre>\n"
      ],
      "text/plain": [
       "\u001b[1mModel: \"sequential_1\"\u001b[0m\n"
      ]
     },
     "metadata": {},
     "output_type": "display_data"
    },
    {
     "data": {
      "text/html": [
       "<pre style=\"white-space:pre;overflow-x:auto;line-height:normal;font-family:Menlo,'DejaVu Sans Mono',consolas,'Courier New',monospace\">┏━━━━━━━━━━━━━━━━━━━━━━━━━━━━━━━━━━━━━━┳━━━━━━━━━━━━━━━━━━━━━━━━━━━━━┳━━━━━━━━━━━━━━━━━┓\n",
       "┃<span style=\"font-weight: bold\"> Layer (type)                         </span>┃<span style=\"font-weight: bold\"> Output Shape                </span>┃<span style=\"font-weight: bold\">         Param # </span>┃\n",
       "┡━━━━━━━━━━━━━━━━━━━━━━━━━━━━━━━━━━━━━━╇━━━━━━━━━━━━━━━━━━━━━━━━━━━━━╇━━━━━━━━━━━━━━━━━┩\n",
       "│ dense_4 (<span style=\"color: #0087ff; text-decoration-color: #0087ff\">Dense</span>)                      │ (<span style=\"color: #00d7ff; text-decoration-color: #00d7ff\">None</span>, <span style=\"color: #00af00; text-decoration-color: #00af00\">125</span>)                 │           <span style=\"color: #00af00; text-decoration-color: #00af00\">5,125</span> │\n",
       "├──────────────────────────────────────┼─────────────────────────────┼─────────────────┤\n",
       "│ activation_4 (<span style=\"color: #0087ff; text-decoration-color: #0087ff\">Activation</span>)            │ (<span style=\"color: #00d7ff; text-decoration-color: #00d7ff\">None</span>, <span style=\"color: #00af00; text-decoration-color: #00af00\">125</span>)                 │               <span style=\"color: #00af00; text-decoration-color: #00af00\">0</span> │\n",
       "├──────────────────────────────────────┼─────────────────────────────┼─────────────────┤\n",
       "│ dropout_3 (<span style=\"color: #0087ff; text-decoration-color: #0087ff\">Dropout</span>)                  │ (<span style=\"color: #00d7ff; text-decoration-color: #00d7ff\">None</span>, <span style=\"color: #00af00; text-decoration-color: #00af00\">125</span>)                 │               <span style=\"color: #00af00; text-decoration-color: #00af00\">0</span> │\n",
       "├──────────────────────────────────────┼─────────────────────────────┼─────────────────┤\n",
       "│ dense_5 (<span style=\"color: #0087ff; text-decoration-color: #0087ff\">Dense</span>)                      │ (<span style=\"color: #00d7ff; text-decoration-color: #00d7ff\">None</span>, <span style=\"color: #00af00; text-decoration-color: #00af00\">250</span>)                 │          <span style=\"color: #00af00; text-decoration-color: #00af00\">31,500</span> │\n",
       "├──────────────────────────────────────┼─────────────────────────────┼─────────────────┤\n",
       "│ activation_5 (<span style=\"color: #0087ff; text-decoration-color: #0087ff\">Activation</span>)            │ (<span style=\"color: #00d7ff; text-decoration-color: #00d7ff\">None</span>, <span style=\"color: #00af00; text-decoration-color: #00af00\">250</span>)                 │               <span style=\"color: #00af00; text-decoration-color: #00af00\">0</span> │\n",
       "├──────────────────────────────────────┼─────────────────────────────┼─────────────────┤\n",
       "│ dropout_4 (<span style=\"color: #0087ff; text-decoration-color: #0087ff\">Dropout</span>)                  │ (<span style=\"color: #00d7ff; text-decoration-color: #00d7ff\">None</span>, <span style=\"color: #00af00; text-decoration-color: #00af00\">250</span>)                 │               <span style=\"color: #00af00; text-decoration-color: #00af00\">0</span> │\n",
       "├──────────────────────────────────────┼─────────────────────────────┼─────────────────┤\n",
       "│ dense_6 (<span style=\"color: #0087ff; text-decoration-color: #0087ff\">Dense</span>)                      │ (<span style=\"color: #00d7ff; text-decoration-color: #00d7ff\">None</span>, <span style=\"color: #00af00; text-decoration-color: #00af00\">125</span>)                 │          <span style=\"color: #00af00; text-decoration-color: #00af00\">31,375</span> │\n",
       "├──────────────────────────────────────┼─────────────────────────────┼─────────────────┤\n",
       "│ activation_6 (<span style=\"color: #0087ff; text-decoration-color: #0087ff\">Activation</span>)            │ (<span style=\"color: #00d7ff; text-decoration-color: #00d7ff\">None</span>, <span style=\"color: #00af00; text-decoration-color: #00af00\">125</span>)                 │               <span style=\"color: #00af00; text-decoration-color: #00af00\">0</span> │\n",
       "├──────────────────────────────────────┼─────────────────────────────┼─────────────────┤\n",
       "│ dropout_5 (<span style=\"color: #0087ff; text-decoration-color: #0087ff\">Dropout</span>)                  │ (<span style=\"color: #00d7ff; text-decoration-color: #00d7ff\">None</span>, <span style=\"color: #00af00; text-decoration-color: #00af00\">125</span>)                 │               <span style=\"color: #00af00; text-decoration-color: #00af00\">0</span> │\n",
       "├──────────────────────────────────────┼─────────────────────────────┼─────────────────┤\n",
       "│ dense_7 (<span style=\"color: #0087ff; text-decoration-color: #0087ff\">Dense</span>)                      │ (<span style=\"color: #00d7ff; text-decoration-color: #00d7ff\">None</span>, <span style=\"color: #00af00; text-decoration-color: #00af00\">10</span>)                  │           <span style=\"color: #00af00; text-decoration-color: #00af00\">1,260</span> │\n",
       "├──────────────────────────────────────┼─────────────────────────────┼─────────────────┤\n",
       "│ activation_7 (<span style=\"color: #0087ff; text-decoration-color: #0087ff\">Activation</span>)            │ (<span style=\"color: #00d7ff; text-decoration-color: #00d7ff\">None</span>, <span style=\"color: #00af00; text-decoration-color: #00af00\">10</span>)                  │               <span style=\"color: #00af00; text-decoration-color: #00af00\">0</span> │\n",
       "└──────────────────────────────────────┴─────────────────────────────┴─────────────────┘\n",
       "</pre>\n"
      ],
      "text/plain": [
       "┏━━━━━━━━━━━━━━━━━━━━━━━━━━━━━━━━━━━━━━┳━━━━━━━━━━━━━━━━━━━━━━━━━━━━━┳━━━━━━━━━━━━━━━━━┓\n",
       "┃\u001b[1m \u001b[0m\u001b[1mLayer (type)                        \u001b[0m\u001b[1m \u001b[0m┃\u001b[1m \u001b[0m\u001b[1mOutput Shape               \u001b[0m\u001b[1m \u001b[0m┃\u001b[1m \u001b[0m\u001b[1m        Param #\u001b[0m\u001b[1m \u001b[0m┃\n",
       "┡━━━━━━━━━━━━━━━━━━━━━━━━━━━━━━━━━━━━━━╇━━━━━━━━━━━━━━━━━━━━━━━━━━━━━╇━━━━━━━━━━━━━━━━━┩\n",
       "│ dense_4 (\u001b[38;5;33mDense\u001b[0m)                      │ (\u001b[38;5;45mNone\u001b[0m, \u001b[38;5;34m125\u001b[0m)                 │           \u001b[38;5;34m5,125\u001b[0m │\n",
       "├──────────────────────────────────────┼─────────────────────────────┼─────────────────┤\n",
       "│ activation_4 (\u001b[38;5;33mActivation\u001b[0m)            │ (\u001b[38;5;45mNone\u001b[0m, \u001b[38;5;34m125\u001b[0m)                 │               \u001b[38;5;34m0\u001b[0m │\n",
       "├──────────────────────────────────────┼─────────────────────────────┼─────────────────┤\n",
       "│ dropout_3 (\u001b[38;5;33mDropout\u001b[0m)                  │ (\u001b[38;5;45mNone\u001b[0m, \u001b[38;5;34m125\u001b[0m)                 │               \u001b[38;5;34m0\u001b[0m │\n",
       "├──────────────────────────────────────┼─────────────────────────────┼─────────────────┤\n",
       "│ dense_5 (\u001b[38;5;33mDense\u001b[0m)                      │ (\u001b[38;5;45mNone\u001b[0m, \u001b[38;5;34m250\u001b[0m)                 │          \u001b[38;5;34m31,500\u001b[0m │\n",
       "├──────────────────────────────────────┼─────────────────────────────┼─────────────────┤\n",
       "│ activation_5 (\u001b[38;5;33mActivation\u001b[0m)            │ (\u001b[38;5;45mNone\u001b[0m, \u001b[38;5;34m250\u001b[0m)                 │               \u001b[38;5;34m0\u001b[0m │\n",
       "├──────────────────────────────────────┼─────────────────────────────┼─────────────────┤\n",
       "│ dropout_4 (\u001b[38;5;33mDropout\u001b[0m)                  │ (\u001b[38;5;45mNone\u001b[0m, \u001b[38;5;34m250\u001b[0m)                 │               \u001b[38;5;34m0\u001b[0m │\n",
       "├──────────────────────────────────────┼─────────────────────────────┼─────────────────┤\n",
       "│ dense_6 (\u001b[38;5;33mDense\u001b[0m)                      │ (\u001b[38;5;45mNone\u001b[0m, \u001b[38;5;34m125\u001b[0m)                 │          \u001b[38;5;34m31,375\u001b[0m │\n",
       "├──────────────────────────────────────┼─────────────────────────────┼─────────────────┤\n",
       "│ activation_6 (\u001b[38;5;33mActivation\u001b[0m)            │ (\u001b[38;5;45mNone\u001b[0m, \u001b[38;5;34m125\u001b[0m)                 │               \u001b[38;5;34m0\u001b[0m │\n",
       "├──────────────────────────────────────┼─────────────────────────────┼─────────────────┤\n",
       "│ dropout_5 (\u001b[38;5;33mDropout\u001b[0m)                  │ (\u001b[38;5;45mNone\u001b[0m, \u001b[38;5;34m125\u001b[0m)                 │               \u001b[38;5;34m0\u001b[0m │\n",
       "├──────────────────────────────────────┼─────────────────────────────┼─────────────────┤\n",
       "│ dense_7 (\u001b[38;5;33mDense\u001b[0m)                      │ (\u001b[38;5;45mNone\u001b[0m, \u001b[38;5;34m10\u001b[0m)                  │           \u001b[38;5;34m1,260\u001b[0m │\n",
       "├──────────────────────────────────────┼─────────────────────────────┼─────────────────┤\n",
       "│ activation_7 (\u001b[38;5;33mActivation\u001b[0m)            │ (\u001b[38;5;45mNone\u001b[0m, \u001b[38;5;34m10\u001b[0m)                  │               \u001b[38;5;34m0\u001b[0m │\n",
       "└──────────────────────────────────────┴─────────────────────────────┴─────────────────┘\n"
      ]
     },
     "metadata": {},
     "output_type": "display_data"
    },
    {
     "data": {
      "text/html": [
       "<pre style=\"white-space:pre;overflow-x:auto;line-height:normal;font-family:Menlo,'DejaVu Sans Mono',consolas,'Courier New',monospace\"><span style=\"font-weight: bold\"> Total params: </span><span style=\"color: #00af00; text-decoration-color: #00af00\">69,260</span> (270.55 KB)\n",
       "</pre>\n"
      ],
      "text/plain": [
       "\u001b[1m Total params: \u001b[0m\u001b[38;5;34m69,260\u001b[0m (270.55 KB)\n"
      ]
     },
     "metadata": {},
     "output_type": "display_data"
    },
    {
     "data": {
      "text/html": [
       "<pre style=\"white-space:pre;overflow-x:auto;line-height:normal;font-family:Menlo,'DejaVu Sans Mono',consolas,'Courier New',monospace\"><span style=\"font-weight: bold\"> Trainable params: </span><span style=\"color: #00af00; text-decoration-color: #00af00\">69,260</span> (270.55 KB)\n",
       "</pre>\n"
      ],
      "text/plain": [
       "\u001b[1m Trainable params: \u001b[0m\u001b[38;5;34m69,260\u001b[0m (270.55 KB)\n"
      ]
     },
     "metadata": {},
     "output_type": "display_data"
    },
    {
     "data": {
      "text/html": [
       "<pre style=\"white-space:pre;overflow-x:auto;line-height:normal;font-family:Menlo,'DejaVu Sans Mono',consolas,'Courier New',monospace\"><span style=\"font-weight: bold\"> Non-trainable params: </span><span style=\"color: #00af00; text-decoration-color: #00af00\">0</span> (0.00 B)\n",
       "</pre>\n"
      ],
      "text/plain": [
       "\u001b[1m Non-trainable params: \u001b[0m\u001b[38;5;34m0\u001b[0m (0.00 B)\n"
      ]
     },
     "metadata": {},
     "output_type": "display_data"
    }
   ],
   "source": [
    "# Model özeti yazdırılıyor.\n",
    "model.summary()"
   ]
  },
  {
   "cell_type": "code",
   "execution_count": 36,
   "id": "287d4e0f-4d52-413b-a3e9-6ce9bb58f559",
   "metadata": {},
   "outputs": [],
   "source": [
    "model.compile(loss='categorical_crossentropy', metrics=['accuracy'], optimizer='adam')"
   ]
  },
  {
   "cell_type": "code",
   "execution_count": 37,
   "id": "837cd568-17c9-4cb9-979c-e4d0a272af84",
   "metadata": {},
   "outputs": [
    {
     "name": "stdout",
     "output_type": "stream",
     "text": [
      "Epoch 1/300\n",
      "\u001b[1m219/219\u001b[0m \u001b[32m━━━━━━━━━━━━━━━━━━━━\u001b[0m\u001b[37m\u001b[0m \u001b[1m1s\u001b[0m 2ms/step - accuracy: 0.1292 - loss: 20.0481 - val_accuracy: 0.1500 - val_loss: 2.2590\n",
      "Epoch 2/300\n",
      "\u001b[1m219/219\u001b[0m \u001b[32m━━━━━━━━━━━━━━━━━━━━\u001b[0m\u001b[37m\u001b[0m \u001b[1m0s\u001b[0m 1ms/step - accuracy: 0.1450 - loss: 2.6464 - val_accuracy: 0.1402 - val_loss: 2.2100\n",
      "Epoch 3/300\n",
      "\u001b[1m219/219\u001b[0m \u001b[32m━━━━━━━━━━━━━━━━━━━━\u001b[0m\u001b[37m\u001b[0m \u001b[1m0s\u001b[0m 1ms/step - accuracy: 0.1591 - loss: 2.3153 - val_accuracy: 0.2106 - val_loss: 2.1462\n",
      "Epoch 4/300\n",
      "\u001b[1m219/219\u001b[0m \u001b[32m━━━━━━━━━━━━━━━━━━━━\u001b[0m\u001b[37m\u001b[0m \u001b[1m0s\u001b[0m 1ms/step - accuracy: 0.1863 - loss: 2.1995 - val_accuracy: 0.2192 - val_loss: 2.0939\n",
      "Epoch 5/300\n",
      "\u001b[1m219/219\u001b[0m \u001b[32m━━━━━━━━━━━━━━━━━━━━\u001b[0m\u001b[37m\u001b[0m \u001b[1m0s\u001b[0m 1ms/step - accuracy: 0.1949 - loss: 2.1552 - val_accuracy: 0.2582 - val_loss: 2.0098\n",
      "Epoch 6/300\n",
      "\u001b[1m219/219\u001b[0m \u001b[32m━━━━━━━━━━━━━━━━━━━━\u001b[0m\u001b[37m\u001b[0m \u001b[1m0s\u001b[0m 1ms/step - accuracy: 0.2325 - loss: 2.0907 - val_accuracy: 0.3188 - val_loss: 1.8587\n",
      "Epoch 7/300\n",
      "\u001b[1m219/219\u001b[0m \u001b[32m━━━━━━━━━━━━━━━━━━━━\u001b[0m\u001b[37m\u001b[0m \u001b[1m0s\u001b[0m 1ms/step - accuracy: 0.2484 - loss: 2.0303 - val_accuracy: 0.3205 - val_loss: 1.8187\n",
      "Epoch 8/300\n",
      "\u001b[1m219/219\u001b[0m \u001b[32m━━━━━━━━━━━━━━━━━━━━\u001b[0m\u001b[37m\u001b[0m \u001b[1m0s\u001b[0m 1ms/step - accuracy: 0.2665 - loss: 1.9848 - val_accuracy: 0.3475 - val_loss: 1.7770\n",
      "Epoch 9/300\n",
      "\u001b[1m219/219\u001b[0m \u001b[32m━━━━━━━━━━━━━━━━━━━━\u001b[0m\u001b[37m\u001b[0m \u001b[1m0s\u001b[0m 1ms/step - accuracy: 0.3008 - loss: 1.8922 - val_accuracy: 0.3984 - val_loss: 1.7012\n",
      "Epoch 10/300\n",
      "\u001b[1m219/219\u001b[0m \u001b[32m━━━━━━━━━━━━━━━━━━━━\u001b[0m\u001b[37m\u001b[0m \u001b[1m0s\u001b[0m 1ms/step - accuracy: 0.3345 - loss: 1.8453 - val_accuracy: 0.4545 - val_loss: 1.6227\n",
      "Epoch 11/300\n",
      "\u001b[1m219/219\u001b[0m \u001b[32m━━━━━━━━━━━━━━━━━━━━\u001b[0m\u001b[37m\u001b[0m \u001b[1m0s\u001b[0m 1ms/step - accuracy: 0.3793 - loss: 1.7418 - val_accuracy: 0.4865 - val_loss: 1.5566\n",
      "Epoch 12/300\n",
      "\u001b[1m219/219\u001b[0m \u001b[32m━━━━━━━━━━━━━━━━━━━━\u001b[0m\u001b[37m\u001b[0m \u001b[1m0s\u001b[0m 1ms/step - accuracy: 0.3963 - loss: 1.7324 - val_accuracy: 0.5003 - val_loss: 1.5013\n",
      "Epoch 13/300\n",
      "\u001b[1m219/219\u001b[0m \u001b[32m━━━━━━━━━━━━━━━━━━━━\u001b[0m\u001b[37m\u001b[0m \u001b[1m0s\u001b[0m 1ms/step - accuracy: 0.4174 - loss: 1.6811 - val_accuracy: 0.5323 - val_loss: 1.4692\n",
      "Epoch 14/300\n",
      "\u001b[1m219/219\u001b[0m \u001b[32m━━━━━━━━━━━━━━━━━━━━\u001b[0m\u001b[37m\u001b[0m \u001b[1m0s\u001b[0m 1ms/step - accuracy: 0.4303 - loss: 1.6559 - val_accuracy: 0.5535 - val_loss: 1.3942\n",
      "Epoch 15/300\n",
      "\u001b[1m219/219\u001b[0m \u001b[32m━━━━━━━━━━━━━━━━━━━━\u001b[0m\u001b[37m\u001b[0m \u001b[1m0s\u001b[0m 1ms/step - accuracy: 0.4542 - loss: 1.5729 - val_accuracy: 0.5724 - val_loss: 1.3526\n",
      "Epoch 16/300\n",
      "\u001b[1m219/219\u001b[0m \u001b[32m━━━━━━━━━━━━━━━━━━━━\u001b[0m\u001b[37m\u001b[0m \u001b[1m0s\u001b[0m 1ms/step - accuracy: 0.4696 - loss: 1.5722 - val_accuracy: 0.5890 - val_loss: 1.3209\n",
      "Epoch 17/300\n",
      "\u001b[1m219/219\u001b[0m \u001b[32m━━━━━━━━━━━━━━━━━━━━\u001b[0m\u001b[37m\u001b[0m \u001b[1m0s\u001b[0m 1ms/step - accuracy: 0.4813 - loss: 1.4920 - val_accuracy: 0.5753 - val_loss: 1.3261\n",
      "Epoch 18/300\n",
      "\u001b[1m219/219\u001b[0m \u001b[32m━━━━━━━━━━━━━━━━━━━━\u001b[0m\u001b[37m\u001b[0m \u001b[1m0s\u001b[0m 1ms/step - accuracy: 0.4918 - loss: 1.4578 - val_accuracy: 0.5965 - val_loss: 1.2727\n",
      "Epoch 19/300\n",
      "\u001b[1m219/219\u001b[0m \u001b[32m━━━━━━━━━━━━━━━━━━━━\u001b[0m\u001b[37m\u001b[0m \u001b[1m0s\u001b[0m 1ms/step - accuracy: 0.5251 - loss: 1.3975 - val_accuracy: 0.6119 - val_loss: 1.2366\n",
      "Epoch 20/300\n",
      "\u001b[1m219/219\u001b[0m \u001b[32m━━━━━━━━━━━━━━━━━━━━\u001b[0m\u001b[37m\u001b[0m \u001b[1m0s\u001b[0m 1ms/step - accuracy: 0.5220 - loss: 1.4045 - val_accuracy: 0.6228 - val_loss: 1.1917\n",
      "Epoch 21/300\n",
      "\u001b[1m219/219\u001b[0m \u001b[32m━━━━━━━━━━━━━━━━━━━━\u001b[0m\u001b[37m\u001b[0m \u001b[1m0s\u001b[0m 2ms/step - accuracy: 0.5464 - loss: 1.3490 - val_accuracy: 0.6365 - val_loss: 1.1626\n",
      "Epoch 22/300\n",
      "\u001b[1m219/219\u001b[0m \u001b[32m━━━━━━━━━━━━━━━━━━━━\u001b[0m\u001b[37m\u001b[0m \u001b[1m0s\u001b[0m 1ms/step - accuracy: 0.5482 - loss: 1.3080 - val_accuracy: 0.6411 - val_loss: 1.1376\n",
      "Epoch 23/300\n",
      "\u001b[1m219/219\u001b[0m \u001b[32m━━━━━━━━━━━━━━━━━━━━\u001b[0m\u001b[37m\u001b[0m \u001b[1m0s\u001b[0m 1ms/step - accuracy: 0.5434 - loss: 1.3211 - val_accuracy: 0.6600 - val_loss: 1.0749\n",
      "Epoch 24/300\n",
      "\u001b[1m219/219\u001b[0m \u001b[32m━━━━━━━━━━━━━━━━━━━━\u001b[0m\u001b[37m\u001b[0m \u001b[1m0s\u001b[0m 1ms/step - accuracy: 0.5731 - loss: 1.2680 - val_accuracy: 0.6697 - val_loss: 1.0549\n",
      "Epoch 25/300\n",
      "\u001b[1m219/219\u001b[0m \u001b[32m━━━━━━━━━━━━━━━━━━━━\u001b[0m\u001b[37m\u001b[0m \u001b[1m0s\u001b[0m 1ms/step - accuracy: 0.5646 - loss: 1.2896 - val_accuracy: 0.6886 - val_loss: 1.0261\n",
      "Epoch 26/300\n",
      "\u001b[1m219/219\u001b[0m \u001b[32m━━━━━━━━━━━━━━━━━━━━\u001b[0m\u001b[37m\u001b[0m \u001b[1m0s\u001b[0m 1ms/step - accuracy: 0.5820 - loss: 1.2452 - val_accuracy: 0.6972 - val_loss: 0.9875\n",
      "Epoch 27/300\n",
      "\u001b[1m219/219\u001b[0m \u001b[32m━━━━━━━━━━━━━━━━━━━━\u001b[0m\u001b[37m\u001b[0m \u001b[1m0s\u001b[0m 1ms/step - accuracy: 0.5890 - loss: 1.2214 - val_accuracy: 0.6829 - val_loss: 1.0591\n",
      "Epoch 28/300\n",
      "\u001b[1m219/219\u001b[0m \u001b[32m━━━━━━━━━━━━━━━━━━━━\u001b[0m\u001b[37m\u001b[0m \u001b[1m0s\u001b[0m 1ms/step - accuracy: 0.5964 - loss: 1.2086 - val_accuracy: 0.6875 - val_loss: 0.9972\n",
      "Epoch 29/300\n",
      "\u001b[1m219/219\u001b[0m \u001b[32m━━━━━━━━━━━━━━━━━━━━\u001b[0m\u001b[37m\u001b[0m \u001b[1m0s\u001b[0m 1ms/step - accuracy: 0.5979 - loss: 1.1790 - val_accuracy: 0.6949 - val_loss: 0.9702\n",
      "Epoch 30/300\n",
      "\u001b[1m219/219\u001b[0m \u001b[32m━━━━━━━━━━━━━━━━━━━━\u001b[0m\u001b[37m\u001b[0m \u001b[1m0s\u001b[0m 1ms/step - accuracy: 0.5969 - loss: 1.1598 - val_accuracy: 0.6800 - val_loss: 0.9865\n",
      "Epoch 31/300\n",
      "\u001b[1m219/219\u001b[0m \u001b[32m━━━━━━━━━━━━━━━━━━━━\u001b[0m\u001b[37m\u001b[0m \u001b[1m0s\u001b[0m 1ms/step - accuracy: 0.6040 - loss: 1.1511 - val_accuracy: 0.6835 - val_loss: 0.9758\n",
      "Epoch 32/300\n",
      "\u001b[1m219/219\u001b[0m \u001b[32m━━━━━━━━━━━━━━━━━━━━\u001b[0m\u001b[37m\u001b[0m \u001b[1m0s\u001b[0m 1ms/step - accuracy: 0.6135 - loss: 1.1253 - val_accuracy: 0.7035 - val_loss: 0.9461\n",
      "Epoch 33/300\n",
      "\u001b[1m219/219\u001b[0m \u001b[32m━━━━━━━━━━━━━━━━━━━━\u001b[0m\u001b[37m\u001b[0m \u001b[1m0s\u001b[0m 1ms/step - accuracy: 0.6079 - loss: 1.1470 - val_accuracy: 0.7052 - val_loss: 0.9281\n",
      "Epoch 34/300\n",
      "\u001b[1m219/219\u001b[0m \u001b[32m━━━━━━━━━━━━━━━━━━━━\u001b[0m\u001b[37m\u001b[0m \u001b[1m0s\u001b[0m 1ms/step - accuracy: 0.6347 - loss: 1.1014 - val_accuracy: 0.7127 - val_loss: 0.9228\n",
      "Epoch 35/300\n",
      "\u001b[1m219/219\u001b[0m \u001b[32m━━━━━━━━━━━━━━━━━━━━\u001b[0m\u001b[37m\u001b[0m \u001b[1m0s\u001b[0m 1ms/step - accuracy: 0.6130 - loss: 1.1251 - val_accuracy: 0.7132 - val_loss: 0.9003\n",
      "Epoch 36/300\n",
      "\u001b[1m219/219\u001b[0m \u001b[32m━━━━━━━━━━━━━━━━━━━━\u001b[0m\u001b[37m\u001b[0m \u001b[1m0s\u001b[0m 1ms/step - accuracy: 0.6386 - loss: 1.0990 - val_accuracy: 0.7069 - val_loss: 0.8939\n",
      "Epoch 37/300\n",
      "\u001b[1m219/219\u001b[0m \u001b[32m━━━━━━━━━━━━━━━━━━━━\u001b[0m\u001b[37m\u001b[0m \u001b[1m0s\u001b[0m 1ms/step - accuracy: 0.6293 - loss: 1.1240 - val_accuracy: 0.7058 - val_loss: 0.9066\n",
      "Epoch 38/300\n",
      "\u001b[1m219/219\u001b[0m \u001b[32m━━━━━━━━━━━━━━━━━━━━\u001b[0m\u001b[37m\u001b[0m \u001b[1m0s\u001b[0m 1ms/step - accuracy: 0.6421 - loss: 1.0632 - val_accuracy: 0.7310 - val_loss: 0.8551\n",
      "Epoch 39/300\n",
      "\u001b[1m219/219\u001b[0m \u001b[32m━━━━━━━━━━━━━━━━━━━━\u001b[0m\u001b[37m\u001b[0m \u001b[1m0s\u001b[0m 1ms/step - accuracy: 0.6522 - loss: 1.0391 - val_accuracy: 0.7258 - val_loss: 0.8685\n",
      "Epoch 40/300\n",
      "\u001b[1m219/219\u001b[0m \u001b[32m━━━━━━━━━━━━━━━━━━━━\u001b[0m\u001b[37m\u001b[0m \u001b[1m0s\u001b[0m 1ms/step - accuracy: 0.6400 - loss: 1.0639 - val_accuracy: 0.7258 - val_loss: 0.8670\n",
      "Epoch 41/300\n",
      "\u001b[1m219/219\u001b[0m \u001b[32m━━━━━━━━━━━━━━━━━━━━\u001b[0m\u001b[37m\u001b[0m \u001b[1m0s\u001b[0m 1ms/step - accuracy: 0.6517 - loss: 1.0136 - val_accuracy: 0.7109 - val_loss: 0.8750\n",
      "Epoch 42/300\n",
      "\u001b[1m219/219\u001b[0m \u001b[32m━━━━━━━━━━━━━━━━━━━━\u001b[0m\u001b[37m\u001b[0m \u001b[1m0s\u001b[0m 1ms/step - accuracy: 0.6544 - loss: 1.0325 - val_accuracy: 0.7230 - val_loss: 0.8469\n",
      "Epoch 43/300\n",
      "\u001b[1m219/219\u001b[0m \u001b[32m━━━━━━━━━━━━━━━━━━━━\u001b[0m\u001b[37m\u001b[0m \u001b[1m0s\u001b[0m 1ms/step - accuracy: 0.6570 - loss: 1.0185 - val_accuracy: 0.7264 - val_loss: 0.8431\n",
      "Epoch 44/300\n",
      "\u001b[1m219/219\u001b[0m \u001b[32m━━━━━━━━━━━━━━━━━━━━\u001b[0m\u001b[37m\u001b[0m \u001b[1m0s\u001b[0m 1ms/step - accuracy: 0.6555 - loss: 1.0303 - val_accuracy: 0.7355 - val_loss: 0.8253\n",
      "Epoch 45/300\n",
      "\u001b[1m219/219\u001b[0m \u001b[32m━━━━━━━━━━━━━━━━━━━━\u001b[0m\u001b[37m\u001b[0m \u001b[1m0s\u001b[0m 1ms/step - accuracy: 0.6587 - loss: 1.0205 - val_accuracy: 0.7287 - val_loss: 0.8285\n",
      "Epoch 46/300\n",
      "\u001b[1m219/219\u001b[0m \u001b[32m━━━━━━━━━━━━━━━━━━━━\u001b[0m\u001b[37m\u001b[0m \u001b[1m0s\u001b[0m 1ms/step - accuracy: 0.6672 - loss: 1.0148 - val_accuracy: 0.7396 - val_loss: 0.8126\n",
      "Epoch 47/300\n",
      "\u001b[1m219/219\u001b[0m \u001b[32m━━━━━━━━━━━━━━━━━━━━\u001b[0m\u001b[37m\u001b[0m \u001b[1m0s\u001b[0m 1ms/step - accuracy: 0.6684 - loss: 0.9940 - val_accuracy: 0.7441 - val_loss: 0.8176\n",
      "Epoch 48/300\n",
      "\u001b[1m219/219\u001b[0m \u001b[32m━━━━━━━━━━━━━━━━━━━━\u001b[0m\u001b[37m\u001b[0m \u001b[1m0s\u001b[0m 1ms/step - accuracy: 0.6686 - loss: 1.0037 - val_accuracy: 0.7441 - val_loss: 0.8070\n",
      "Epoch 49/300\n",
      "\u001b[1m219/219\u001b[0m \u001b[32m━━━━━━━━━━━━━━━━━━━━\u001b[0m\u001b[37m\u001b[0m \u001b[1m0s\u001b[0m 1ms/step - accuracy: 0.6702 - loss: 0.9828 - val_accuracy: 0.7533 - val_loss: 0.7926\n",
      "Epoch 50/300\n",
      "\u001b[1m219/219\u001b[0m \u001b[32m━━━━━━━━━━━━━━━━━━━━\u001b[0m\u001b[37m\u001b[0m \u001b[1m0s\u001b[0m 1ms/step - accuracy: 0.6656 - loss: 0.9858 - val_accuracy: 0.7418 - val_loss: 0.8068\n",
      "Epoch 51/300\n",
      "\u001b[1m219/219\u001b[0m \u001b[32m━━━━━━━━━━━━━━━━━━━━\u001b[0m\u001b[37m\u001b[0m \u001b[1m0s\u001b[0m 1ms/step - accuracy: 0.6705 - loss: 0.9785 - val_accuracy: 0.7493 - val_loss: 0.7886\n",
      "Epoch 52/300\n",
      "\u001b[1m219/219\u001b[0m \u001b[32m━━━━━━━━━━━━━━━━━━━━\u001b[0m\u001b[37m\u001b[0m \u001b[1m0s\u001b[0m 1ms/step - accuracy: 0.6678 - loss: 0.9841 - val_accuracy: 0.7510 - val_loss: 0.7963\n",
      "Epoch 53/300\n",
      "\u001b[1m219/219\u001b[0m \u001b[32m━━━━━━━━━━━━━━━━━━━━\u001b[0m\u001b[37m\u001b[0m \u001b[1m0s\u001b[0m 1ms/step - accuracy: 0.6804 - loss: 0.9579 - val_accuracy: 0.7533 - val_loss: 0.7917\n",
      "Epoch 54/300\n",
      "\u001b[1m219/219\u001b[0m \u001b[32m━━━━━━━━━━━━━━━━━━━━\u001b[0m\u001b[37m\u001b[0m \u001b[1m0s\u001b[0m 1ms/step - accuracy: 0.6775 - loss: 0.9573 - val_accuracy: 0.7459 - val_loss: 0.7889\n",
      "Epoch 55/300\n",
      "\u001b[1m219/219\u001b[0m \u001b[32m━━━━━━━━━━━━━━━━━━━━\u001b[0m\u001b[37m\u001b[0m \u001b[1m0s\u001b[0m 1ms/step - accuracy: 0.6811 - loss: 0.9531 - val_accuracy: 0.7596 - val_loss: 0.7613\n",
      "Epoch 56/300\n",
      "\u001b[1m219/219\u001b[0m \u001b[32m━━━━━━━━━━━━━━━━━━━━\u001b[0m\u001b[37m\u001b[0m \u001b[1m0s\u001b[0m 2ms/step - accuracy: 0.6773 - loss: 0.9566 - val_accuracy: 0.7590 - val_loss: 0.7559\n",
      "Epoch 57/300\n",
      "\u001b[1m219/219\u001b[0m \u001b[32m━━━━━━━━━━━━━━━━━━━━\u001b[0m\u001b[37m\u001b[0m \u001b[1m0s\u001b[0m 1ms/step - accuracy: 0.6749 - loss: 0.9729 - val_accuracy: 0.7361 - val_loss: 0.7937\n",
      "Epoch 58/300\n",
      "\u001b[1m219/219\u001b[0m \u001b[32m━━━━━━━━━━━━━━━━━━━━\u001b[0m\u001b[37m\u001b[0m \u001b[1m0s\u001b[0m 1ms/step - accuracy: 0.6813 - loss: 0.9567 - val_accuracy: 0.7584 - val_loss: 0.7482\n",
      "Epoch 59/300\n",
      "\u001b[1m219/219\u001b[0m \u001b[32m━━━━━━━━━━━━━━━━━━━━\u001b[0m\u001b[37m\u001b[0m \u001b[1m0s\u001b[0m 1ms/step - accuracy: 0.6737 - loss: 0.9598 - val_accuracy: 0.7539 - val_loss: 0.7632\n",
      "Epoch 60/300\n",
      "\u001b[1m219/219\u001b[0m \u001b[32m━━━━━━━━━━━━━━━━━━━━\u001b[0m\u001b[37m\u001b[0m \u001b[1m0s\u001b[0m 1ms/step - accuracy: 0.6881 - loss: 0.9140 - val_accuracy: 0.7687 - val_loss: 0.7375\n",
      "Epoch 61/300\n",
      "\u001b[1m219/219\u001b[0m \u001b[32m━━━━━━━━━━━━━━━━━━━━\u001b[0m\u001b[37m\u001b[0m \u001b[1m0s\u001b[0m 1ms/step - accuracy: 0.6946 - loss: 0.9264 - val_accuracy: 0.7642 - val_loss: 0.7531\n",
      "Epoch 62/300\n",
      "\u001b[1m219/219\u001b[0m \u001b[32m━━━━━━━━━━━━━━━━━━━━\u001b[0m\u001b[37m\u001b[0m \u001b[1m0s\u001b[0m 1ms/step - accuracy: 0.6838 - loss: 0.9205 - val_accuracy: 0.7722 - val_loss: 0.7384\n",
      "Epoch 63/300\n",
      "\u001b[1m219/219\u001b[0m \u001b[32m━━━━━━━━━━━━━━━━━━━━\u001b[0m\u001b[37m\u001b[0m \u001b[1m0s\u001b[0m 1ms/step - accuracy: 0.6981 - loss: 0.8970 - val_accuracy: 0.7487 - val_loss: 0.7790\n",
      "Epoch 64/300\n",
      "\u001b[1m219/219\u001b[0m \u001b[32m━━━━━━━━━━━━━━━━━━━━\u001b[0m\u001b[37m\u001b[0m \u001b[1m0s\u001b[0m 1ms/step - accuracy: 0.7010 - loss: 0.8963 - val_accuracy: 0.7705 - val_loss: 0.7255\n",
      "Epoch 65/300\n",
      "\u001b[1m219/219\u001b[0m \u001b[32m━━━━━━━━━━━━━━━━━━━━\u001b[0m\u001b[37m\u001b[0m \u001b[1m0s\u001b[0m 1ms/step - accuracy: 0.7071 - loss: 0.8814 - val_accuracy: 0.7687 - val_loss: 0.7143\n",
      "Epoch 66/300\n",
      "\u001b[1m219/219\u001b[0m \u001b[32m━━━━━━━━━━━━━━━━━━━━\u001b[0m\u001b[37m\u001b[0m \u001b[1m0s\u001b[0m 1ms/step - accuracy: 0.6812 - loss: 0.9489 - val_accuracy: 0.7590 - val_loss: 0.7623\n",
      "Epoch 67/300\n",
      "\u001b[1m219/219\u001b[0m \u001b[32m━━━━━━━━━━━━━━━━━━━━\u001b[0m\u001b[37m\u001b[0m \u001b[1m0s\u001b[0m 1ms/step - accuracy: 0.6917 - loss: 0.9189 - val_accuracy: 0.7590 - val_loss: 0.7326\n",
      "Epoch 68/300\n",
      "\u001b[1m219/219\u001b[0m \u001b[32m━━━━━━━━━━━━━━━━━━━━\u001b[0m\u001b[37m\u001b[0m \u001b[1m0s\u001b[0m 1ms/step - accuracy: 0.6993 - loss: 0.8840 - val_accuracy: 0.7762 - val_loss: 0.7244\n",
      "Epoch 69/300\n",
      "\u001b[1m219/219\u001b[0m \u001b[32m━━━━━━━━━━━━━━━━━━━━\u001b[0m\u001b[37m\u001b[0m \u001b[1m0s\u001b[0m 1ms/step - accuracy: 0.7046 - loss: 0.8977 - val_accuracy: 0.7670 - val_loss: 0.7370\n",
      "Epoch 70/300\n",
      "\u001b[1m219/219\u001b[0m \u001b[32m━━━━━━━━━━━━━━━━━━━━\u001b[0m\u001b[37m\u001b[0m \u001b[1m0s\u001b[0m 1ms/step - accuracy: 0.7025 - loss: 0.9040 - val_accuracy: 0.7624 - val_loss: 0.7517\n",
      "Epoch 71/300\n",
      "\u001b[1m219/219\u001b[0m \u001b[32m━━━━━━━━━━━━━━━━━━━━\u001b[0m\u001b[37m\u001b[0m \u001b[1m0s\u001b[0m 1ms/step - accuracy: 0.6774 - loss: 0.9524 - val_accuracy: 0.7676 - val_loss: 0.7309\n",
      "Epoch 72/300\n",
      "\u001b[1m219/219\u001b[0m \u001b[32m━━━━━━━━━━━━━━━━━━━━\u001b[0m\u001b[37m\u001b[0m \u001b[1m0s\u001b[0m 1ms/step - accuracy: 0.6865 - loss: 0.9075 - val_accuracy: 0.7682 - val_loss: 0.7226\n",
      "Epoch 73/300\n",
      "\u001b[1m219/219\u001b[0m \u001b[32m━━━━━━━━━━━━━━━━━━━━\u001b[0m\u001b[37m\u001b[0m \u001b[1m0s\u001b[0m 1ms/step - accuracy: 0.6898 - loss: 0.9092 - val_accuracy: 0.7544 - val_loss: 0.7360\n",
      "Epoch 74/300\n",
      "\u001b[1m219/219\u001b[0m \u001b[32m━━━━━━━━━━━━━━━━━━━━\u001b[0m\u001b[37m\u001b[0m \u001b[1m0s\u001b[0m 1ms/step - accuracy: 0.6917 - loss: 0.8955 - val_accuracy: 0.7739 - val_loss: 0.7140\n",
      "Epoch 75/300\n",
      "\u001b[1m219/219\u001b[0m \u001b[32m━━━━━━━━━━━━━━━━━━━━\u001b[0m\u001b[37m\u001b[0m \u001b[1m0s\u001b[0m 1ms/step - accuracy: 0.7016 - loss: 0.8840 - val_accuracy: 0.7670 - val_loss: 0.7077\n",
      "Epoch 76/300\n",
      "\u001b[1m219/219\u001b[0m \u001b[32m━━━━━━━━━━━━━━━━━━━━\u001b[0m\u001b[37m\u001b[0m \u001b[1m0s\u001b[0m 1ms/step - accuracy: 0.7103 - loss: 0.9000 - val_accuracy: 0.7750 - val_loss: 0.7195\n",
      "Epoch 77/300\n",
      "\u001b[1m219/219\u001b[0m \u001b[32m━━━━━━━━━━━━━━━━━━━━\u001b[0m\u001b[37m\u001b[0m \u001b[1m0s\u001b[0m 1ms/step - accuracy: 0.7049 - loss: 0.8612 - val_accuracy: 0.7665 - val_loss: 0.7400\n",
      "Epoch 78/300\n",
      "\u001b[1m219/219\u001b[0m \u001b[32m━━━━━━━━━━━━━━━━━━━━\u001b[0m\u001b[37m\u001b[0m \u001b[1m0s\u001b[0m 1ms/step - accuracy: 0.6921 - loss: 0.9067 - val_accuracy: 0.7722 - val_loss: 0.7030\n",
      "Epoch 79/300\n",
      "\u001b[1m219/219\u001b[0m \u001b[32m━━━━━━━━━━━━━━━━━━━━\u001b[0m\u001b[37m\u001b[0m \u001b[1m0s\u001b[0m 1ms/step - accuracy: 0.7027 - loss: 0.8859 - val_accuracy: 0.7762 - val_loss: 0.6999\n",
      "Epoch 80/300\n",
      "\u001b[1m219/219\u001b[0m \u001b[32m━━━━━━━━━━━━━━━━━━━━\u001b[0m\u001b[37m\u001b[0m \u001b[1m0s\u001b[0m 1ms/step - accuracy: 0.7136 - loss: 0.8780 - val_accuracy: 0.7894 - val_loss: 0.6725\n",
      "Epoch 81/300\n",
      "\u001b[1m219/219\u001b[0m \u001b[32m━━━━━━━━━━━━━━━━━━━━\u001b[0m\u001b[37m\u001b[0m \u001b[1m0s\u001b[0m 1ms/step - accuracy: 0.6945 - loss: 0.9033 - val_accuracy: 0.7756 - val_loss: 0.7023\n",
      "Epoch 82/300\n",
      "\u001b[1m219/219\u001b[0m \u001b[32m━━━━━━━━━━━━━━━━━━━━\u001b[0m\u001b[37m\u001b[0m \u001b[1m0s\u001b[0m 1ms/step - accuracy: 0.7151 - loss: 0.8416 - val_accuracy: 0.7831 - val_loss: 0.7063\n",
      "Epoch 83/300\n",
      "\u001b[1m219/219\u001b[0m \u001b[32m━━━━━━━━━━━━━━━━━━━━\u001b[0m\u001b[37m\u001b[0m \u001b[1m0s\u001b[0m 1ms/step - accuracy: 0.7036 - loss: 0.8722 - val_accuracy: 0.7728 - val_loss: 0.7159\n",
      "Epoch 84/300\n",
      "\u001b[1m219/219\u001b[0m \u001b[32m━━━━━━━━━━━━━━━━━━━━\u001b[0m\u001b[37m\u001b[0m \u001b[1m0s\u001b[0m 1ms/step - accuracy: 0.7181 - loss: 0.8788 - val_accuracy: 0.7796 - val_loss: 0.6935\n",
      "Epoch 85/300\n",
      "\u001b[1m219/219\u001b[0m \u001b[32m━━━━━━━━━━━━━━━━━━━━\u001b[0m\u001b[37m\u001b[0m \u001b[1m0s\u001b[0m 1ms/step - accuracy: 0.7041 - loss: 0.8831 - val_accuracy: 0.7859 - val_loss: 0.6866\n",
      "Epoch 86/300\n",
      "\u001b[1m219/219\u001b[0m \u001b[32m━━━━━━━━━━━━━━━━━━━━\u001b[0m\u001b[37m\u001b[0m \u001b[1m0s\u001b[0m 1ms/step - accuracy: 0.7101 - loss: 0.8769 - val_accuracy: 0.7882 - val_loss: 0.6844\n",
      "Epoch 87/300\n",
      "\u001b[1m219/219\u001b[0m \u001b[32m━━━━━━━━━━━━━━━━━━━━\u001b[0m\u001b[37m\u001b[0m \u001b[1m0s\u001b[0m 1ms/step - accuracy: 0.7055 - loss: 0.8901 - val_accuracy: 0.7733 - val_loss: 0.6991\n",
      "Epoch 88/300\n",
      "\u001b[1m219/219\u001b[0m \u001b[32m━━━━━━━━━━━━━━━━━━━━\u001b[0m\u001b[37m\u001b[0m \u001b[1m0s\u001b[0m 1ms/step - accuracy: 0.7139 - loss: 0.8566 - val_accuracy: 0.7785 - val_loss: 0.6870\n",
      "Epoch 89/300\n",
      "\u001b[1m219/219\u001b[0m \u001b[32m━━━━━━━━━━━━━━━━━━━━\u001b[0m\u001b[37m\u001b[0m \u001b[1m0s\u001b[0m 1ms/step - accuracy: 0.7128 - loss: 0.8634 - val_accuracy: 0.7968 - val_loss: 0.6789\n",
      "Epoch 90/300\n",
      "\u001b[1m219/219\u001b[0m \u001b[32m━━━━━━━━━━━━━━━━━━━━\u001b[0m\u001b[37m\u001b[0m \u001b[1m0s\u001b[0m 1ms/step - accuracy: 0.6975 - loss: 0.8810 - val_accuracy: 0.7899 - val_loss: 0.6886\n",
      "Epoch 91/300\n",
      "\u001b[1m219/219\u001b[0m \u001b[32m━━━━━━━━━━━━━━━━━━━━\u001b[0m\u001b[37m\u001b[0m \u001b[1m0s\u001b[0m 1ms/step - accuracy: 0.7209 - loss: 0.8328 - val_accuracy: 0.7934 - val_loss: 0.6825\n",
      "Epoch 92/300\n",
      "\u001b[1m219/219\u001b[0m \u001b[32m━━━━━━━━━━━━━━━━━━━━\u001b[0m\u001b[37m\u001b[0m \u001b[1m0s\u001b[0m 1ms/step - accuracy: 0.7143 - loss: 0.8607 - val_accuracy: 0.7974 - val_loss: 0.6586\n",
      "Epoch 93/300\n",
      "\u001b[1m219/219\u001b[0m \u001b[32m━━━━━━━━━━━━━━━━━━━━\u001b[0m\u001b[37m\u001b[0m \u001b[1m0s\u001b[0m 1ms/step - accuracy: 0.7213 - loss: 0.8641 - val_accuracy: 0.7819 - val_loss: 0.6789\n",
      "Epoch 94/300\n",
      "\u001b[1m219/219\u001b[0m \u001b[32m━━━━━━━━━━━━━━━━━━━━\u001b[0m\u001b[37m\u001b[0m \u001b[1m0s\u001b[0m 1ms/step - accuracy: 0.7227 - loss: 0.8429 - val_accuracy: 0.8037 - val_loss: 0.6627\n",
      "Epoch 95/300\n",
      "\u001b[1m219/219\u001b[0m \u001b[32m━━━━━━━━━━━━━━━━━━━━\u001b[0m\u001b[37m\u001b[0m \u001b[1m0s\u001b[0m 1ms/step - accuracy: 0.7284 - loss: 0.8116 - val_accuracy: 0.7974 - val_loss: 0.6700\n",
      "Epoch 96/300\n",
      "\u001b[1m219/219\u001b[0m \u001b[32m━━━━━━━━━━━━━━━━━━━━\u001b[0m\u001b[37m\u001b[0m \u001b[1m0s\u001b[0m 1ms/step - accuracy: 0.7200 - loss: 0.8224 - val_accuracy: 0.8025 - val_loss: 0.6763\n",
      "Epoch 97/300\n",
      "\u001b[1m219/219\u001b[0m \u001b[32m━━━━━━━━━━━━━━━━━━━━\u001b[0m\u001b[37m\u001b[0m \u001b[1m0s\u001b[0m 1ms/step - accuracy: 0.7118 - loss: 0.8494 - val_accuracy: 0.7945 - val_loss: 0.6870\n",
      "Epoch 98/300\n",
      "\u001b[1m219/219\u001b[0m \u001b[32m━━━━━━━━━━━━━━━━━━━━\u001b[0m\u001b[37m\u001b[0m \u001b[1m0s\u001b[0m 1ms/step - accuracy: 0.7173 - loss: 0.8435 - val_accuracy: 0.7899 - val_loss: 0.6577\n",
      "Epoch 99/300\n",
      "\u001b[1m219/219\u001b[0m \u001b[32m━━━━━━━━━━━━━━━━━━━━\u001b[0m\u001b[37m\u001b[0m \u001b[1m0s\u001b[0m 1ms/step - accuracy: 0.7239 - loss: 0.8266 - val_accuracy: 0.7979 - val_loss: 0.6663\n",
      "Epoch 100/300\n",
      "\u001b[1m219/219\u001b[0m \u001b[32m━━━━━━━━━━━━━━━━━━━━\u001b[0m\u001b[37m\u001b[0m \u001b[1m0s\u001b[0m 1ms/step - accuracy: 0.7216 - loss: 0.8082 - val_accuracy: 0.7876 - val_loss: 0.6736\n",
      "Epoch 101/300\n",
      "\u001b[1m219/219\u001b[0m \u001b[32m━━━━━━━━━━━━━━━━━━━━\u001b[0m\u001b[37m\u001b[0m \u001b[1m0s\u001b[0m 1ms/step - accuracy: 0.7215 - loss: 0.8366 - val_accuracy: 0.7790 - val_loss: 0.6831\n",
      "Epoch 102/300\n",
      "\u001b[1m219/219\u001b[0m \u001b[32m━━━━━━━━━━━━━━━━━━━━\u001b[0m\u001b[37m\u001b[0m \u001b[1m0s\u001b[0m 1ms/step - accuracy: 0.7100 - loss: 0.8545 - val_accuracy: 0.8042 - val_loss: 0.6495\n",
      "Epoch 103/300\n",
      "\u001b[1m219/219\u001b[0m \u001b[32m━━━━━━━━━━━━━━━━━━━━\u001b[0m\u001b[37m\u001b[0m \u001b[1m0s\u001b[0m 1ms/step - accuracy: 0.7312 - loss: 0.7895 - val_accuracy: 0.8037 - val_loss: 0.6424\n",
      "Epoch 104/300\n",
      "\u001b[1m219/219\u001b[0m \u001b[32m━━━━━━━━━━━━━━━━━━━━\u001b[0m\u001b[37m\u001b[0m \u001b[1m0s\u001b[0m 1ms/step - accuracy: 0.7211 - loss: 0.8298 - val_accuracy: 0.8060 - val_loss: 0.6445\n",
      "Epoch 105/300\n",
      "\u001b[1m219/219\u001b[0m \u001b[32m━━━━━━━━━━━━━━━━━━━━\u001b[0m\u001b[37m\u001b[0m \u001b[1m0s\u001b[0m 1ms/step - accuracy: 0.7174 - loss: 0.8407 - val_accuracy: 0.7853 - val_loss: 0.6749\n",
      "Epoch 106/300\n",
      "\u001b[1m219/219\u001b[0m \u001b[32m━━━━━━━━━━━━━━━━━━━━\u001b[0m\u001b[37m\u001b[0m \u001b[1m0s\u001b[0m 1ms/step - accuracy: 0.7212 - loss: 0.8439 - val_accuracy: 0.7968 - val_loss: 0.6456\n",
      "Epoch 107/300\n",
      "\u001b[1m219/219\u001b[0m \u001b[32m━━━━━━━━━━━━━━━━━━━━\u001b[0m\u001b[37m\u001b[0m \u001b[1m0s\u001b[0m 2ms/step - accuracy: 0.7289 - loss: 0.8096 - val_accuracy: 0.7962 - val_loss: 0.6647\n",
      "Epoch 108/300\n",
      "\u001b[1m219/219\u001b[0m \u001b[32m━━━━━━━━━━━━━━━━━━━━\u001b[0m\u001b[37m\u001b[0m \u001b[1m0s\u001b[0m 1ms/step - accuracy: 0.7197 - loss: 0.8484 - val_accuracy: 0.8019 - val_loss: 0.6396\n",
      "Epoch 109/300\n",
      "\u001b[1m219/219\u001b[0m \u001b[32m━━━━━━━━━━━━━━━━━━━━\u001b[0m\u001b[37m\u001b[0m \u001b[1m0s\u001b[0m 1ms/step - accuracy: 0.7128 - loss: 0.8576 - val_accuracy: 0.7836 - val_loss: 0.6643\n",
      "Epoch 110/300\n",
      "\u001b[1m219/219\u001b[0m \u001b[32m━━━━━━━━━━━━━━━━━━━━\u001b[0m\u001b[37m\u001b[0m \u001b[1m0s\u001b[0m 1ms/step - accuracy: 0.7358 - loss: 0.7893 - val_accuracy: 0.8094 - val_loss: 0.6406\n",
      "Epoch 111/300\n",
      "\u001b[1m219/219\u001b[0m \u001b[32m━━━━━━━━━━━━━━━━━━━━\u001b[0m\u001b[37m\u001b[0m \u001b[1m0s\u001b[0m 1ms/step - accuracy: 0.7297 - loss: 0.8111 - val_accuracy: 0.8008 - val_loss: 0.6360\n",
      "Epoch 112/300\n",
      "\u001b[1m219/219\u001b[0m \u001b[32m━━━━━━━━━━━━━━━━━━━━\u001b[0m\u001b[37m\u001b[0m \u001b[1m0s\u001b[0m 1ms/step - accuracy: 0.7340 - loss: 0.8182 - val_accuracy: 0.8054 - val_loss: 0.6437\n",
      "Epoch 113/300\n",
      "\u001b[1m219/219\u001b[0m \u001b[32m━━━━━━━━━━━━━━━━━━━━\u001b[0m\u001b[37m\u001b[0m \u001b[1m0s\u001b[0m 1ms/step - accuracy: 0.7330 - loss: 0.8173 - val_accuracy: 0.8002 - val_loss: 0.6619\n",
      "Epoch 114/300\n",
      "\u001b[1m219/219\u001b[0m \u001b[32m━━━━━━━━━━━━━━━━━━━━\u001b[0m\u001b[37m\u001b[0m \u001b[1m0s\u001b[0m 1ms/step - accuracy: 0.7316 - loss: 0.8317 - val_accuracy: 0.7997 - val_loss: 0.6603\n",
      "Epoch 115/300\n",
      "\u001b[1m219/219\u001b[0m \u001b[32m━━━━━━━━━━━━━━━━━━━━\u001b[0m\u001b[37m\u001b[0m \u001b[1m0s\u001b[0m 1ms/step - accuracy: 0.7228 - loss: 0.8095 - val_accuracy: 0.7985 - val_loss: 0.6603\n",
      "Epoch 116/300\n",
      "\u001b[1m219/219\u001b[0m \u001b[32m━━━━━━━━━━━━━━━━━━━━\u001b[0m\u001b[37m\u001b[0m \u001b[1m0s\u001b[0m 1ms/step - accuracy: 0.7320 - loss: 0.7912 - val_accuracy: 0.8071 - val_loss: 0.6357\n",
      "Epoch 117/300\n",
      "\u001b[1m219/219\u001b[0m \u001b[32m━━━━━━━━━━━━━━━━━━━━\u001b[0m\u001b[37m\u001b[0m \u001b[1m0s\u001b[0m 1ms/step - accuracy: 0.7405 - loss: 0.7908 - val_accuracy: 0.8082 - val_loss: 0.6343\n",
      "Epoch 118/300\n",
      "\u001b[1m219/219\u001b[0m \u001b[32m━━━━━━━━━━━━━━━━━━━━\u001b[0m\u001b[37m\u001b[0m \u001b[1m0s\u001b[0m 1ms/step - accuracy: 0.7334 - loss: 0.8047 - val_accuracy: 0.8002 - val_loss: 0.6460\n",
      "Epoch 119/300\n",
      "\u001b[1m219/219\u001b[0m \u001b[32m━━━━━━━━━━━━━━━━━━━━\u001b[0m\u001b[37m\u001b[0m \u001b[1m0s\u001b[0m 1ms/step - accuracy: 0.7286 - loss: 0.8306 - val_accuracy: 0.8077 - val_loss: 0.6399\n",
      "Epoch 120/300\n",
      "\u001b[1m219/219\u001b[0m \u001b[32m━━━━━━━━━━━━━━━━━━━━\u001b[0m\u001b[37m\u001b[0m \u001b[1m0s\u001b[0m 1ms/step - accuracy: 0.7248 - loss: 0.8203 - val_accuracy: 0.8128 - val_loss: 0.6196\n",
      "Epoch 121/300\n",
      "\u001b[1m219/219\u001b[0m \u001b[32m━━━━━━━━━━━━━━━━━━━━\u001b[0m\u001b[37m\u001b[0m \u001b[1m0s\u001b[0m 1ms/step - accuracy: 0.7384 - loss: 0.7944 - val_accuracy: 0.7905 - val_loss: 0.6570\n",
      "Epoch 122/300\n",
      "\u001b[1m219/219\u001b[0m \u001b[32m━━━━━━━━━━━━━━━━━━━━\u001b[0m\u001b[37m\u001b[0m \u001b[1m0s\u001b[0m 1ms/step - accuracy: 0.7348 - loss: 0.7962 - val_accuracy: 0.7894 - val_loss: 0.6541\n",
      "Epoch 123/300\n",
      "\u001b[1m219/219\u001b[0m \u001b[32m━━━━━━━━━━━━━━━━━━━━\u001b[0m\u001b[37m\u001b[0m \u001b[1m0s\u001b[0m 1ms/step - accuracy: 0.7276 - loss: 0.7985 - val_accuracy: 0.8088 - val_loss: 0.6202\n",
      "Epoch 124/300\n",
      "\u001b[1m219/219\u001b[0m \u001b[32m━━━━━━━━━━━━━━━━━━━━\u001b[0m\u001b[37m\u001b[0m \u001b[1m0s\u001b[0m 1ms/step - accuracy: 0.7369 - loss: 0.8125 - val_accuracy: 0.7922 - val_loss: 0.6617\n",
      "Epoch 125/300\n",
      "\u001b[1m219/219\u001b[0m \u001b[32m━━━━━━━━━━━━━━━━━━━━\u001b[0m\u001b[37m\u001b[0m \u001b[1m0s\u001b[0m 1ms/step - accuracy: 0.7348 - loss: 0.7930 - val_accuracy: 0.8134 - val_loss: 0.6534\n",
      "Epoch 126/300\n",
      "\u001b[1m219/219\u001b[0m \u001b[32m━━━━━━━━━━━━━━━━━━━━\u001b[0m\u001b[37m\u001b[0m \u001b[1m0s\u001b[0m 1ms/step - accuracy: 0.7284 - loss: 0.8080 - val_accuracy: 0.7997 - val_loss: 0.6385\n",
      "Epoch 127/300\n",
      "\u001b[1m219/219\u001b[0m \u001b[32m━━━━━━━━━━━━━━━━━━━━\u001b[0m\u001b[37m\u001b[0m \u001b[1m0s\u001b[0m 1ms/step - accuracy: 0.7319 - loss: 0.8284 - val_accuracy: 0.8122 - val_loss: 0.6237\n",
      "Epoch 128/300\n",
      "\u001b[1m219/219\u001b[0m \u001b[32m━━━━━━━━━━━━━━━━━━━━\u001b[0m\u001b[37m\u001b[0m \u001b[1m0s\u001b[0m 1ms/step - accuracy: 0.7379 - loss: 0.8038 - val_accuracy: 0.8100 - val_loss: 0.6243\n",
      "Epoch 129/300\n",
      "\u001b[1m219/219\u001b[0m \u001b[32m━━━━━━━━━━━━━━━━━━━━\u001b[0m\u001b[37m\u001b[0m \u001b[1m0s\u001b[0m 1ms/step - accuracy: 0.7513 - loss: 0.7421 - val_accuracy: 0.8128 - val_loss: 0.6326\n",
      "Epoch 130/300\n",
      "\u001b[1m219/219\u001b[0m \u001b[32m━━━━━━━━━━━━━━━━━━━━\u001b[0m\u001b[37m\u001b[0m \u001b[1m0s\u001b[0m 1ms/step - accuracy: 0.7302 - loss: 0.7833 - val_accuracy: 0.8111 - val_loss: 0.6282\n",
      "Epoch 131/300\n",
      "\u001b[1m219/219\u001b[0m \u001b[32m━━━━━━━━━━━━━━━━━━━━\u001b[0m\u001b[37m\u001b[0m \u001b[1m0s\u001b[0m 1ms/step - accuracy: 0.7109 - loss: 0.8574 - val_accuracy: 0.8002 - val_loss: 0.6438\n",
      "Epoch 132/300\n",
      "\u001b[1m219/219\u001b[0m \u001b[32m━━━━━━━━━━━━━━━━━━━━\u001b[0m\u001b[37m\u001b[0m \u001b[1m0s\u001b[0m 1ms/step - accuracy: 0.7423 - loss: 0.7780 - val_accuracy: 0.8082 - val_loss: 0.6187\n",
      "Epoch 133/300\n",
      "\u001b[1m219/219\u001b[0m \u001b[32m━━━━━━━━━━━━━━━━━━━━\u001b[0m\u001b[37m\u001b[0m \u001b[1m0s\u001b[0m 1ms/step - accuracy: 0.7369 - loss: 0.8036 - val_accuracy: 0.8019 - val_loss: 0.6303\n",
      "Epoch 134/300\n",
      "\u001b[1m219/219\u001b[0m \u001b[32m━━━━━━━━━━━━━━━━━━━━\u001b[0m\u001b[37m\u001b[0m \u001b[1m0s\u001b[0m 1ms/step - accuracy: 0.7311 - loss: 0.8020 - val_accuracy: 0.7979 - val_loss: 0.6548\n",
      "Epoch 135/300\n",
      "\u001b[1m219/219\u001b[0m \u001b[32m━━━━━━━━━━━━━━━━━━━━\u001b[0m\u001b[37m\u001b[0m \u001b[1m0s\u001b[0m 1ms/step - accuracy: 0.7352 - loss: 0.8217 - val_accuracy: 0.8025 - val_loss: 0.6273\n",
      "Epoch 136/300\n",
      "\u001b[1m219/219\u001b[0m \u001b[32m━━━━━━━━━━━━━━━━━━━━\u001b[0m\u001b[37m\u001b[0m \u001b[1m0s\u001b[0m 1ms/step - accuracy: 0.7313 - loss: 0.8090 - val_accuracy: 0.8151 - val_loss: 0.6067\n",
      "Epoch 137/300\n",
      "\u001b[1m219/219\u001b[0m \u001b[32m━━━━━━━━━━━━━━━━━━━━\u001b[0m\u001b[37m\u001b[0m \u001b[1m0s\u001b[0m 1ms/step - accuracy: 0.7394 - loss: 0.7886 - val_accuracy: 0.8105 - val_loss: 0.6281\n",
      "Epoch 138/300\n",
      "\u001b[1m219/219\u001b[0m \u001b[32m━━━━━━━━━━━━━━━━━━━━\u001b[0m\u001b[37m\u001b[0m \u001b[1m0s\u001b[0m 1ms/step - accuracy: 0.7345 - loss: 0.8086 - val_accuracy: 0.8088 - val_loss: 0.6041\n",
      "Epoch 139/300\n",
      "\u001b[1m219/219\u001b[0m \u001b[32m━━━━━━━━━━━━━━━━━━━━\u001b[0m\u001b[37m\u001b[0m \u001b[1m0s\u001b[0m 1ms/step - accuracy: 0.7411 - loss: 0.8025 - val_accuracy: 0.8191 - val_loss: 0.6232\n",
      "Epoch 140/300\n",
      "\u001b[1m219/219\u001b[0m \u001b[32m━━━━━━━━━━━━━━━━━━━━\u001b[0m\u001b[37m\u001b[0m \u001b[1m0s\u001b[0m 1ms/step - accuracy: 0.7368 - loss: 0.8085 - val_accuracy: 0.8140 - val_loss: 0.6198\n",
      "Epoch 141/300\n",
      "\u001b[1m219/219\u001b[0m \u001b[32m━━━━━━━━━━━━━━━━━━━━\u001b[0m\u001b[37m\u001b[0m \u001b[1m0s\u001b[0m 1ms/step - accuracy: 0.7442 - loss: 0.7994 - val_accuracy: 0.8180 - val_loss: 0.5990\n",
      "Epoch 142/300\n",
      "\u001b[1m219/219\u001b[0m \u001b[32m━━━━━━━━━━━━━━━━━━━━\u001b[0m\u001b[37m\u001b[0m \u001b[1m0s\u001b[0m 1ms/step - accuracy: 0.7519 - loss: 0.7800 - val_accuracy: 0.8140 - val_loss: 0.6305\n",
      "Epoch 143/300\n",
      "\u001b[1m219/219\u001b[0m \u001b[32m━━━━━━━━━━━━━━━━━━━━\u001b[0m\u001b[37m\u001b[0m \u001b[1m0s\u001b[0m 1ms/step - accuracy: 0.7426 - loss: 0.8102 - val_accuracy: 0.8105 - val_loss: 0.6187\n",
      "Epoch 144/300\n",
      "\u001b[1m219/219\u001b[0m \u001b[32m━━━━━━━━━━━━━━━━━━━━\u001b[0m\u001b[37m\u001b[0m \u001b[1m0s\u001b[0m 1ms/step - accuracy: 0.7476 - loss: 0.7671 - val_accuracy: 0.8065 - val_loss: 0.6168\n",
      "Epoch 145/300\n",
      "\u001b[1m219/219\u001b[0m \u001b[32m━━━━━━━━━━━━━━━━━━━━\u001b[0m\u001b[37m\u001b[0m \u001b[1m0s\u001b[0m 1ms/step - accuracy: 0.7433 - loss: 0.7797 - val_accuracy: 0.8180 - val_loss: 0.6210\n",
      "Epoch 146/300\n",
      "\u001b[1m219/219\u001b[0m \u001b[32m━━━━━━━━━━━━━━━━━━━━\u001b[0m\u001b[37m\u001b[0m \u001b[1m0s\u001b[0m 1ms/step - accuracy: 0.7400 - loss: 0.7893 - val_accuracy: 0.8197 - val_loss: 0.5972\n",
      "Epoch 147/300\n",
      "\u001b[1m219/219\u001b[0m \u001b[32m━━━━━━━━━━━━━━━━━━━━\u001b[0m\u001b[37m\u001b[0m \u001b[1m0s\u001b[0m 1ms/step - accuracy: 0.7515 - loss: 0.7401 - val_accuracy: 0.8180 - val_loss: 0.5926\n",
      "Epoch 148/300\n",
      "\u001b[1m219/219\u001b[0m \u001b[32m━━━━━━━━━━━━━━━━━━━━\u001b[0m\u001b[37m\u001b[0m \u001b[1m0s\u001b[0m 1ms/step - accuracy: 0.7496 - loss: 0.7787 - val_accuracy: 0.8203 - val_loss: 0.6049\n",
      "Epoch 149/300\n",
      "\u001b[1m219/219\u001b[0m \u001b[32m━━━━━━━━━━━━━━━━━━━━\u001b[0m\u001b[37m\u001b[0m \u001b[1m0s\u001b[0m 1ms/step - accuracy: 0.7499 - loss: 0.7570 - val_accuracy: 0.8065 - val_loss: 0.6273\n",
      "Epoch 150/300\n",
      "\u001b[1m219/219\u001b[0m \u001b[32m━━━━━━━━━━━━━━━━━━━━\u001b[0m\u001b[37m\u001b[0m \u001b[1m0s\u001b[0m 1ms/step - accuracy: 0.7521 - loss: 0.7592 - val_accuracy: 0.8140 - val_loss: 0.6342\n",
      "Epoch 151/300\n",
      "\u001b[1m219/219\u001b[0m \u001b[32m━━━━━━━━━━━━━━━━━━━━\u001b[0m\u001b[37m\u001b[0m \u001b[1m0s\u001b[0m 1ms/step - accuracy: 0.7345 - loss: 0.8075 - val_accuracy: 0.8100 - val_loss: 0.6121\n",
      "Epoch 152/300\n",
      "\u001b[1m219/219\u001b[0m \u001b[32m━━━━━━━━━━━━━━━━━━━━\u001b[0m\u001b[37m\u001b[0m \u001b[1m0s\u001b[0m 1ms/step - accuracy: 0.7396 - loss: 0.7867 - val_accuracy: 0.8037 - val_loss: 0.6286\n",
      "Epoch 153/300\n",
      "\u001b[1m219/219\u001b[0m \u001b[32m━━━━━━━━━━━━━━━━━━━━\u001b[0m\u001b[37m\u001b[0m \u001b[1m0s\u001b[0m 1ms/step - accuracy: 0.7373 - loss: 0.7657 - val_accuracy: 0.8180 - val_loss: 0.6291\n",
      "Epoch 154/300\n",
      "\u001b[1m219/219\u001b[0m \u001b[32m━━━━━━━━━━━━━━━━━━━━\u001b[0m\u001b[37m\u001b[0m \u001b[1m0s\u001b[0m 1ms/step - accuracy: 0.7369 - loss: 0.7971 - val_accuracy: 0.8248 - val_loss: 0.5849\n",
      "Epoch 155/300\n",
      "\u001b[1m219/219\u001b[0m \u001b[32m━━━━━━━━━━━━━━━━━━━━\u001b[0m\u001b[37m\u001b[0m \u001b[1m0s\u001b[0m 1ms/step - accuracy: 0.7369 - loss: 0.7700 - val_accuracy: 0.8151 - val_loss: 0.6233\n",
      "Epoch 156/300\n",
      "\u001b[1m219/219\u001b[0m \u001b[32m━━━━━━━━━━━━━━━━━━━━\u001b[0m\u001b[37m\u001b[0m \u001b[1m0s\u001b[0m 1ms/step - accuracy: 0.7338 - loss: 0.7965 - val_accuracy: 0.8111 - val_loss: 0.6208\n",
      "Epoch 157/300\n",
      "\u001b[1m219/219\u001b[0m \u001b[32m━━━━━━━━━━━━━━━━━━━━\u001b[0m\u001b[37m\u001b[0m \u001b[1m0s\u001b[0m 1ms/step - accuracy: 0.7528 - loss: 0.7668 - val_accuracy: 0.8111 - val_loss: 0.6124\n",
      "Epoch 158/300\n",
      "\u001b[1m219/219\u001b[0m \u001b[32m━━━━━━━━━━━━━━━━━━━━\u001b[0m\u001b[37m\u001b[0m \u001b[1m0s\u001b[0m 1ms/step - accuracy: 0.7488 - loss: 0.7499 - val_accuracy: 0.8111 - val_loss: 0.6055\n",
      "Epoch 159/300\n",
      "\u001b[1m219/219\u001b[0m \u001b[32m━━━━━━━━━━━━━━━━━━━━\u001b[0m\u001b[37m\u001b[0m \u001b[1m0s\u001b[0m 1ms/step - accuracy: 0.7357 - loss: 0.7864 - val_accuracy: 0.8277 - val_loss: 0.5985\n",
      "Epoch 160/300\n",
      "\u001b[1m219/219\u001b[0m \u001b[32m━━━━━━━━━━━━━━━━━━━━\u001b[0m\u001b[37m\u001b[0m \u001b[1m0s\u001b[0m 1ms/step - accuracy: 0.7536 - loss: 0.7743 - val_accuracy: 0.8180 - val_loss: 0.6055\n",
      "Epoch 161/300\n",
      "\u001b[1m219/219\u001b[0m \u001b[32m━━━━━━━━━━━━━━━━━━━━\u001b[0m\u001b[37m\u001b[0m \u001b[1m0s\u001b[0m 1ms/step - accuracy: 0.7475 - loss: 0.7815 - val_accuracy: 0.8071 - val_loss: 0.6240\n",
      "Epoch 162/300\n",
      "\u001b[1m219/219\u001b[0m \u001b[32m━━━━━━━━━━━━━━━━━━━━\u001b[0m\u001b[37m\u001b[0m \u001b[1m0s\u001b[0m 1ms/step - accuracy: 0.7360 - loss: 0.7656 - val_accuracy: 0.8128 - val_loss: 0.5987\n",
      "Epoch 163/300\n",
      "\u001b[1m219/219\u001b[0m \u001b[32m━━━━━━━━━━━━━━━━━━━━\u001b[0m\u001b[37m\u001b[0m \u001b[1m0s\u001b[0m 1ms/step - accuracy: 0.7391 - loss: 0.7976 - val_accuracy: 0.8145 - val_loss: 0.5974\n",
      "Epoch 164/300\n",
      "\u001b[1m219/219\u001b[0m \u001b[32m━━━━━━━━━━━━━━━━━━━━\u001b[0m\u001b[37m\u001b[0m \u001b[1m0s\u001b[0m 1ms/step - accuracy: 0.7570 - loss: 0.7411 - val_accuracy: 0.8117 - val_loss: 0.6232\n",
      "Epoch 165/300\n",
      "\u001b[1m219/219\u001b[0m \u001b[32m━━━━━━━━━━━━━━━━━━━━\u001b[0m\u001b[37m\u001b[0m \u001b[1m0s\u001b[0m 1ms/step - accuracy: 0.7422 - loss: 0.7736 - val_accuracy: 0.8197 - val_loss: 0.5920\n",
      "Epoch 166/300\n",
      "\u001b[1m219/219\u001b[0m \u001b[32m━━━━━━━━━━━━━━━━━━━━\u001b[0m\u001b[37m\u001b[0m \u001b[1m0s\u001b[0m 1ms/step - accuracy: 0.7449 - loss: 0.7750 - val_accuracy: 0.8203 - val_loss: 0.5910\n",
      "Epoch 167/300\n",
      "\u001b[1m219/219\u001b[0m \u001b[32m━━━━━━━━━━━━━━━━━━━━\u001b[0m\u001b[37m\u001b[0m \u001b[1m0s\u001b[0m 1ms/step - accuracy: 0.7499 - loss: 0.7523 - val_accuracy: 0.8157 - val_loss: 0.6010\n",
      "Epoch 168/300\n",
      "\u001b[1m219/219\u001b[0m \u001b[32m━━━━━━━━━━━━━━━━━━━━\u001b[0m\u001b[37m\u001b[0m \u001b[1m0s\u001b[0m 1ms/step - accuracy: 0.7517 - loss: 0.7497 - val_accuracy: 0.8134 - val_loss: 0.5892\n",
      "Epoch 169/300\n",
      "\u001b[1m219/219\u001b[0m \u001b[32m━━━━━━━━━━━━━━━━━━━━\u001b[0m\u001b[37m\u001b[0m \u001b[1m0s\u001b[0m 1ms/step - accuracy: 0.7434 - loss: 0.7534 - val_accuracy: 0.8208 - val_loss: 0.5890\n",
      "Epoch 170/300\n",
      "\u001b[1m219/219\u001b[0m \u001b[32m━━━━━━━━━━━━━━━━━━━━\u001b[0m\u001b[37m\u001b[0m \u001b[1m0s\u001b[0m 1ms/step - accuracy: 0.7424 - loss: 0.7585 - val_accuracy: 0.8214 - val_loss: 0.5872\n",
      "Epoch 171/300\n",
      "\u001b[1m219/219\u001b[0m \u001b[32m━━━━━━━━━━━━━━━━━━━━\u001b[0m\u001b[37m\u001b[0m \u001b[1m0s\u001b[0m 1ms/step - accuracy: 0.7610 - loss: 0.7320 - val_accuracy: 0.8191 - val_loss: 0.5884\n",
      "Epoch 172/300\n",
      "\u001b[1m219/219\u001b[0m \u001b[32m━━━━━━━━━━━━━━━━━━━━\u001b[0m\u001b[37m\u001b[0m \u001b[1m0s\u001b[0m 1ms/step - accuracy: 0.7427 - loss: 0.7658 - val_accuracy: 0.8111 - val_loss: 0.6059\n",
      "Epoch 173/300\n",
      "\u001b[1m219/219\u001b[0m \u001b[32m━━━━━━━━━━━━━━━━━━━━\u001b[0m\u001b[37m\u001b[0m \u001b[1m0s\u001b[0m 1ms/step - accuracy: 0.7371 - loss: 0.7813 - val_accuracy: 0.8088 - val_loss: 0.6179\n",
      "Epoch 174/300\n",
      "\u001b[1m219/219\u001b[0m \u001b[32m━━━━━━━━━━━━━━━━━━━━\u001b[0m\u001b[37m\u001b[0m \u001b[1m0s\u001b[0m 1ms/step - accuracy: 0.7419 - loss: 0.7621 - val_accuracy: 0.8151 - val_loss: 0.5971\n",
      "Epoch 175/300\n",
      "\u001b[1m219/219\u001b[0m \u001b[32m━━━━━━━━━━━━━━━━━━━━\u001b[0m\u001b[37m\u001b[0m \u001b[1m0s\u001b[0m 1ms/step - accuracy: 0.7352 - loss: 0.7886 - val_accuracy: 0.8094 - val_loss: 0.6211\n",
      "Epoch 176/300\n",
      "\u001b[1m219/219\u001b[0m \u001b[32m━━━━━━━━━━━━━━━━━━━━\u001b[0m\u001b[37m\u001b[0m \u001b[1m0s\u001b[0m 1ms/step - accuracy: 0.7533 - loss: 0.7676 - val_accuracy: 0.8191 - val_loss: 0.5954\n",
      "Epoch 177/300\n",
      "\u001b[1m219/219\u001b[0m \u001b[32m━━━━━━━━━━━━━━━━━━━━\u001b[0m\u001b[37m\u001b[0m \u001b[1m0s\u001b[0m 1ms/step - accuracy: 0.7482 - loss: 0.7458 - val_accuracy: 0.8180 - val_loss: 0.5951\n",
      "Epoch 178/300\n",
      "\u001b[1m219/219\u001b[0m \u001b[32m━━━━━━━━━━━━━━━━━━━━\u001b[0m\u001b[37m\u001b[0m \u001b[1m0s\u001b[0m 1ms/step - accuracy: 0.7465 - loss: 0.7784 - val_accuracy: 0.8122 - val_loss: 0.6086\n",
      "Epoch 179/300\n",
      "\u001b[1m219/219\u001b[0m \u001b[32m━━━━━━━━━━━━━━━━━━━━\u001b[0m\u001b[37m\u001b[0m \u001b[1m0s\u001b[0m 1ms/step - accuracy: 0.7499 - loss: 0.7537 - val_accuracy: 0.7985 - val_loss: 0.6151\n",
      "Epoch 180/300\n",
      "\u001b[1m219/219\u001b[0m \u001b[32m━━━━━━━━━━━━━━━━━━━━\u001b[0m\u001b[37m\u001b[0m \u001b[1m0s\u001b[0m 1ms/step - accuracy: 0.7366 - loss: 0.8030 - val_accuracy: 0.8100 - val_loss: 0.6177\n",
      "Epoch 181/300\n",
      "\u001b[1m219/219\u001b[0m \u001b[32m━━━━━━━━━━━━━━━━━━━━\u001b[0m\u001b[37m\u001b[0m \u001b[1m0s\u001b[0m 1ms/step - accuracy: 0.7443 - loss: 0.7488 - val_accuracy: 0.8283 - val_loss: 0.6007\n",
      "Epoch 182/300\n",
      "\u001b[1m219/219\u001b[0m \u001b[32m━━━━━━━━━━━━━━━━━━━━\u001b[0m\u001b[37m\u001b[0m \u001b[1m0s\u001b[0m 1ms/step - accuracy: 0.7369 - loss: 0.7765 - val_accuracy: 0.8082 - val_loss: 0.6131\n",
      "Epoch 183/300\n",
      "\u001b[1m219/219\u001b[0m \u001b[32m━━━━━━━━━━━━━━━━━━━━\u001b[0m\u001b[37m\u001b[0m \u001b[1m0s\u001b[0m 1ms/step - accuracy: 0.7517 - loss: 0.7636 - val_accuracy: 0.8105 - val_loss: 0.6094\n",
      "Epoch 184/300\n",
      "\u001b[1m219/219\u001b[0m \u001b[32m━━━━━━━━━━━━━━━━━━━━\u001b[0m\u001b[37m\u001b[0m \u001b[1m0s\u001b[0m 1ms/step - accuracy: 0.7429 - loss: 0.7590 - val_accuracy: 0.8191 - val_loss: 0.6041\n",
      "Epoch 185/300\n",
      "\u001b[1m219/219\u001b[0m \u001b[32m━━━━━━━━━━━━━━━━━━━━\u001b[0m\u001b[37m\u001b[0m \u001b[1m0s\u001b[0m 1ms/step - accuracy: 0.7341 - loss: 0.7975 - val_accuracy: 0.8220 - val_loss: 0.5944\n",
      "Epoch 186/300\n",
      "\u001b[1m219/219\u001b[0m \u001b[32m━━━━━━━━━━━━━━━━━━━━\u001b[0m\u001b[37m\u001b[0m \u001b[1m0s\u001b[0m 1ms/step - accuracy: 0.7544 - loss: 0.7619 - val_accuracy: 0.8157 - val_loss: 0.5907\n",
      "Epoch 187/300\n",
      "\u001b[1m219/219\u001b[0m \u001b[32m━━━━━━━━━━━━━━━━━━━━\u001b[0m\u001b[37m\u001b[0m \u001b[1m0s\u001b[0m 1ms/step - accuracy: 0.7441 - loss: 0.7678 - val_accuracy: 0.8100 - val_loss: 0.6150\n",
      "Epoch 188/300\n",
      "\u001b[1m219/219\u001b[0m \u001b[32m━━━━━━━━━━━━━━━━━━━━\u001b[0m\u001b[37m\u001b[0m \u001b[1m0s\u001b[0m 1ms/step - accuracy: 0.7404 - loss: 0.7738 - val_accuracy: 0.8140 - val_loss: 0.5990\n",
      "Epoch 189/300\n",
      "\u001b[1m219/219\u001b[0m \u001b[32m━━━━━━━━━━━━━━━━━━━━\u001b[0m\u001b[37m\u001b[0m \u001b[1m0s\u001b[0m 1ms/step - accuracy: 0.7493 - loss: 0.7439 - val_accuracy: 0.8134 - val_loss: 0.5997\n",
      "Epoch 190/300\n",
      "\u001b[1m219/219\u001b[0m \u001b[32m━━━━━━━━━━━━━━━━━━━━\u001b[0m\u001b[37m\u001b[0m \u001b[1m0s\u001b[0m 1ms/step - accuracy: 0.7425 - loss: 0.7921 - val_accuracy: 0.8174 - val_loss: 0.6005\n",
      "Epoch 191/300\n",
      "\u001b[1m219/219\u001b[0m \u001b[32m━━━━━━━━━━━━━━━━━━━━\u001b[0m\u001b[37m\u001b[0m \u001b[1m0s\u001b[0m 1ms/step - accuracy: 0.7458 - loss: 0.7587 - val_accuracy: 0.8203 - val_loss: 0.5930\n",
      "Epoch 192/300\n",
      "\u001b[1m219/219\u001b[0m \u001b[32m━━━━━━━━━━━━━━━━━━━━\u001b[0m\u001b[37m\u001b[0m \u001b[1m0s\u001b[0m 1ms/step - accuracy: 0.7581 - loss: 0.7426 - val_accuracy: 0.8266 - val_loss: 0.5850\n",
      "Epoch 193/300\n",
      "\u001b[1m219/219\u001b[0m \u001b[32m━━━━━━━━━━━━━━━━━━━━\u001b[0m\u001b[37m\u001b[0m \u001b[1m0s\u001b[0m 1ms/step - accuracy: 0.7592 - loss: 0.7356 - val_accuracy: 0.8203 - val_loss: 0.5875\n",
      "Epoch 194/300\n",
      "\u001b[1m219/219\u001b[0m \u001b[32m━━━━━━━━━━━━━━━━━━━━\u001b[0m\u001b[37m\u001b[0m \u001b[1m0s\u001b[0m 1ms/step - accuracy: 0.7587 - loss: 0.7526 - val_accuracy: 0.8060 - val_loss: 0.6072\n",
      "Epoch 195/300\n",
      "\u001b[1m219/219\u001b[0m \u001b[32m━━━━━━━━━━━━━━━━━━━━\u001b[0m\u001b[37m\u001b[0m \u001b[1m0s\u001b[0m 1ms/step - accuracy: 0.7492 - loss: 0.7587 - val_accuracy: 0.8128 - val_loss: 0.6103\n",
      "Epoch 196/300\n",
      "\u001b[1m219/219\u001b[0m \u001b[32m━━━━━━━━━━━━━━━━━━━━\u001b[0m\u001b[37m\u001b[0m \u001b[1m0s\u001b[0m 1ms/step - accuracy: 0.7339 - loss: 0.7685 - val_accuracy: 0.8180 - val_loss: 0.5933\n",
      "Epoch 197/300\n",
      "\u001b[1m219/219\u001b[0m \u001b[32m━━━━━━━━━━━━━━━━━━━━\u001b[0m\u001b[37m\u001b[0m \u001b[1m0s\u001b[0m 1ms/step - accuracy: 0.7507 - loss: 0.7584 - val_accuracy: 0.8288 - val_loss: 0.5828\n",
      "Epoch 198/300\n",
      "\u001b[1m219/219\u001b[0m \u001b[32m━━━━━━━━━━━━━━━━━━━━\u001b[0m\u001b[37m\u001b[0m \u001b[1m0s\u001b[0m 1ms/step - accuracy: 0.7605 - loss: 0.7625 - val_accuracy: 0.8145 - val_loss: 0.5854\n",
      "Epoch 199/300\n",
      "\u001b[1m219/219\u001b[0m \u001b[32m━━━━━━━━━━━━━━━━━━━━\u001b[0m\u001b[37m\u001b[0m \u001b[1m0s\u001b[0m 1ms/step - accuracy: 0.7452 - loss: 0.7537 - val_accuracy: 0.8334 - val_loss: 0.5731\n",
      "Epoch 200/300\n",
      "\u001b[1m219/219\u001b[0m \u001b[32m━━━━━━━━━━━━━━━━━━━━\u001b[0m\u001b[37m\u001b[0m \u001b[1m0s\u001b[0m 1ms/step - accuracy: 0.7427 - loss: 0.7536 - val_accuracy: 0.8226 - val_loss: 0.5946\n",
      "Epoch 201/300\n",
      "\u001b[1m219/219\u001b[0m \u001b[32m━━━━━━━━━━━━━━━━━━━━\u001b[0m\u001b[37m\u001b[0m \u001b[1m0s\u001b[0m 1ms/step - accuracy: 0.7585 - loss: 0.7230 - val_accuracy: 0.8323 - val_loss: 0.5826\n",
      "Epoch 202/300\n",
      "\u001b[1m219/219\u001b[0m \u001b[32m━━━━━━━━━━━━━━━━━━━━\u001b[0m\u001b[37m\u001b[0m \u001b[1m0s\u001b[0m 1ms/step - accuracy: 0.7579 - loss: 0.7402 - val_accuracy: 0.8134 - val_loss: 0.5922\n",
      "Epoch 203/300\n",
      "\u001b[1m219/219\u001b[0m \u001b[32m━━━━━━━━━━━━━━━━━━━━\u001b[0m\u001b[37m\u001b[0m \u001b[1m0s\u001b[0m 1ms/step - accuracy: 0.7579 - loss: 0.7377 - val_accuracy: 0.8203 - val_loss: 0.6049\n",
      "Epoch 204/300\n",
      "\u001b[1m219/219\u001b[0m \u001b[32m━━━━━━━━━━━━━━━━━━━━\u001b[0m\u001b[37m\u001b[0m \u001b[1m0s\u001b[0m 1ms/step - accuracy: 0.7491 - loss: 0.7623 - val_accuracy: 0.8260 - val_loss: 0.5994\n",
      "Epoch 205/300\n",
      "\u001b[1m219/219\u001b[0m \u001b[32m━━━━━━━━━━━━━━━━━━━━\u001b[0m\u001b[37m\u001b[0m \u001b[1m0s\u001b[0m 1ms/step - accuracy: 0.7543 - loss: 0.7424 - val_accuracy: 0.8191 - val_loss: 0.5961\n",
      "Epoch 206/300\n",
      "\u001b[1m219/219\u001b[0m \u001b[32m━━━━━━━━━━━━━━━━━━━━\u001b[0m\u001b[37m\u001b[0m \u001b[1m0s\u001b[0m 1ms/step - accuracy: 0.7547 - loss: 0.7651 - val_accuracy: 0.8237 - val_loss: 0.5992\n",
      "Epoch 207/300\n",
      "\u001b[1m219/219\u001b[0m \u001b[32m━━━━━━━━━━━━━━━━━━━━\u001b[0m\u001b[37m\u001b[0m \u001b[1m0s\u001b[0m 1ms/step - accuracy: 0.7452 - loss: 0.7603 - val_accuracy: 0.8197 - val_loss: 0.5914\n",
      "Epoch 208/300\n",
      "\u001b[1m219/219\u001b[0m \u001b[32m━━━━━━━━━━━━━━━━━━━━\u001b[0m\u001b[37m\u001b[0m \u001b[1m0s\u001b[0m 1ms/step - accuracy: 0.7539 - loss: 0.7399 - val_accuracy: 0.8180 - val_loss: 0.5839\n",
      "Epoch 209/300\n",
      "\u001b[1m219/219\u001b[0m \u001b[32m━━━━━━━━━━━━━━━━━━━━\u001b[0m\u001b[37m\u001b[0m \u001b[1m0s\u001b[0m 1ms/step - accuracy: 0.7555 - loss: 0.7499 - val_accuracy: 0.8197 - val_loss: 0.5855\n",
      "Epoch 210/300\n",
      "\u001b[1m219/219\u001b[0m \u001b[32m━━━━━━━━━━━━━━━━━━━━\u001b[0m\u001b[37m\u001b[0m \u001b[1m0s\u001b[0m 1ms/step - accuracy: 0.7550 - loss: 0.7524 - val_accuracy: 0.8134 - val_loss: 0.5991\n",
      "Epoch 211/300\n",
      "\u001b[1m219/219\u001b[0m \u001b[32m━━━━━━━━━━━━━━━━━━━━\u001b[0m\u001b[37m\u001b[0m \u001b[1m0s\u001b[0m 1ms/step - accuracy: 0.7540 - loss: 0.7528 - val_accuracy: 0.8208 - val_loss: 0.5789\n",
      "Epoch 212/300\n",
      "\u001b[1m219/219\u001b[0m \u001b[32m━━━━━━━━━━━━━━━━━━━━\u001b[0m\u001b[37m\u001b[0m \u001b[1m0s\u001b[0m 1ms/step - accuracy: 0.7619 - loss: 0.7316 - val_accuracy: 0.8174 - val_loss: 0.5848\n",
      "Epoch 213/300\n",
      "\u001b[1m219/219\u001b[0m \u001b[32m━━━━━━━━━━━━━━━━━━━━\u001b[0m\u001b[37m\u001b[0m \u001b[1m0s\u001b[0m 1ms/step - accuracy: 0.7462 - loss: 0.7606 - val_accuracy: 0.8145 - val_loss: 0.6059\n",
      "Epoch 214/300\n",
      "\u001b[1m219/219\u001b[0m \u001b[32m━━━━━━━━━━━━━━━━━━━━\u001b[0m\u001b[37m\u001b[0m \u001b[1m0s\u001b[0m 1ms/step - accuracy: 0.7630 - loss: 0.7365 - val_accuracy: 0.8157 - val_loss: 0.5921\n",
      "Epoch 215/300\n",
      "\u001b[1m219/219\u001b[0m \u001b[32m━━━━━━━━━━━━━━━━━━━━\u001b[0m\u001b[37m\u001b[0m \u001b[1m0s\u001b[0m 1ms/step - accuracy: 0.7681 - loss: 0.6929 - val_accuracy: 0.8197 - val_loss: 0.5880\n",
      "Epoch 216/300\n",
      "\u001b[1m219/219\u001b[0m \u001b[32m━━━━━━━━━━━━━━━━━━━━\u001b[0m\u001b[37m\u001b[0m \u001b[1m0s\u001b[0m 1ms/step - accuracy: 0.7523 - loss: 0.7487 - val_accuracy: 0.8266 - val_loss: 0.5665\n",
      "Epoch 217/300\n",
      "\u001b[1m219/219\u001b[0m \u001b[32m━━━━━━━━━━━━━━━━━━━━\u001b[0m\u001b[37m\u001b[0m \u001b[1m0s\u001b[0m 1ms/step - accuracy: 0.7618 - loss: 0.7397 - val_accuracy: 0.8226 - val_loss: 0.5817\n",
      "Epoch 218/300\n",
      "\u001b[1m219/219\u001b[0m \u001b[32m━━━━━━━━━━━━━━━━━━━━\u001b[0m\u001b[37m\u001b[0m \u001b[1m0s\u001b[0m 1ms/step - accuracy: 0.7597 - loss: 0.7469 - val_accuracy: 0.8288 - val_loss: 0.5771\n",
      "Epoch 219/300\n",
      "\u001b[1m219/219\u001b[0m \u001b[32m━━━━━━━━━━━━━━━━━━━━\u001b[0m\u001b[37m\u001b[0m \u001b[1m0s\u001b[0m 1ms/step - accuracy: 0.7533 - loss: 0.7533 - val_accuracy: 0.8163 - val_loss: 0.5946\n",
      "Epoch 220/300\n",
      "\u001b[1m219/219\u001b[0m \u001b[32m━━━━━━━━━━━━━━━━━━━━\u001b[0m\u001b[37m\u001b[0m \u001b[1m0s\u001b[0m 1ms/step - accuracy: 0.7519 - loss: 0.7414 - val_accuracy: 0.8077 - val_loss: 0.5875\n",
      "Epoch 221/300\n",
      "\u001b[1m219/219\u001b[0m \u001b[32m━━━━━━━━━━━━━━━━━━━━\u001b[0m\u001b[37m\u001b[0m \u001b[1m0s\u001b[0m 1ms/step - accuracy: 0.7516 - loss: 0.7602 - val_accuracy: 0.8260 - val_loss: 0.5726\n",
      "Epoch 222/300\n",
      "\u001b[1m219/219\u001b[0m \u001b[32m━━━━━━━━━━━━━━━━━━━━\u001b[0m\u001b[37m\u001b[0m \u001b[1m0s\u001b[0m 1ms/step - accuracy: 0.7597 - loss: 0.7293 - val_accuracy: 0.8140 - val_loss: 0.5930\n",
      "Epoch 223/300\n",
      "\u001b[1m219/219\u001b[0m \u001b[32m━━━━━━━━━━━━━━━━━━━━\u001b[0m\u001b[37m\u001b[0m \u001b[1m0s\u001b[0m 1ms/step - accuracy: 0.7574 - loss: 0.7244 - val_accuracy: 0.8111 - val_loss: 0.6035\n",
      "Epoch 224/300\n",
      "\u001b[1m219/219\u001b[0m \u001b[32m━━━━━━━━━━━━━━━━━━━━\u001b[0m\u001b[37m\u001b[0m \u001b[1m0s\u001b[0m 1ms/step - accuracy: 0.7487 - loss: 0.7786 - val_accuracy: 0.8117 - val_loss: 0.5785\n",
      "Epoch 225/300\n",
      "\u001b[1m219/219\u001b[0m \u001b[32m━━━━━━━━━━━━━━━━━━━━\u001b[0m\u001b[37m\u001b[0m \u001b[1m0s\u001b[0m 1ms/step - accuracy: 0.7513 - loss: 0.7350 - val_accuracy: 0.8214 - val_loss: 0.5830\n",
      "Epoch 226/300\n",
      "\u001b[1m219/219\u001b[0m \u001b[32m━━━━━━━━━━━━━━━━━━━━\u001b[0m\u001b[37m\u001b[0m \u001b[1m0s\u001b[0m 1ms/step - accuracy: 0.7536 - loss: 0.7375 - val_accuracy: 0.8168 - val_loss: 0.5829\n",
      "Epoch 227/300\n",
      "\u001b[1m219/219\u001b[0m \u001b[32m━━━━━━━━━━━━━━━━━━━━\u001b[0m\u001b[37m\u001b[0m \u001b[1m0s\u001b[0m 1ms/step - accuracy: 0.7506 - loss: 0.7455 - val_accuracy: 0.8283 - val_loss: 0.5783\n",
      "Epoch 228/300\n",
      "\u001b[1m219/219\u001b[0m \u001b[32m━━━━━━━━━━━━━━━━━━━━\u001b[0m\u001b[37m\u001b[0m \u001b[1m0s\u001b[0m 1ms/step - accuracy: 0.7590 - loss: 0.7374 - val_accuracy: 0.8243 - val_loss: 0.5866\n",
      "Epoch 229/300\n",
      "\u001b[1m219/219\u001b[0m \u001b[32m━━━━━━━━━━━━━━━━━━━━\u001b[0m\u001b[37m\u001b[0m \u001b[1m0s\u001b[0m 1ms/step - accuracy: 0.7506 - loss: 0.7364 - val_accuracy: 0.8128 - val_loss: 0.5885\n",
      "Epoch 230/300\n",
      "\u001b[1m219/219\u001b[0m \u001b[32m━━━━━━━━━━━━━━━━━━━━\u001b[0m\u001b[37m\u001b[0m \u001b[1m0s\u001b[0m 1ms/step - accuracy: 0.7653 - loss: 0.6993 - val_accuracy: 0.8231 - val_loss: 0.5663\n",
      "Epoch 231/300\n",
      "\u001b[1m219/219\u001b[0m \u001b[32m━━━━━━━━━━━━━━━━━━━━\u001b[0m\u001b[37m\u001b[0m \u001b[1m0s\u001b[0m 1ms/step - accuracy: 0.7585 - loss: 0.7415 - val_accuracy: 0.8226 - val_loss: 0.5897\n",
      "Epoch 232/300\n",
      "\u001b[1m219/219\u001b[0m \u001b[32m━━━━━━━━━━━━━━━━━━━━\u001b[0m\u001b[37m\u001b[0m \u001b[1m0s\u001b[0m 1ms/step - accuracy: 0.7532 - loss: 0.7493 - val_accuracy: 0.8248 - val_loss: 0.5796\n",
      "Epoch 233/300\n",
      "\u001b[1m219/219\u001b[0m \u001b[32m━━━━━━━━━━━━━━━━━━━━\u001b[0m\u001b[37m\u001b[0m \u001b[1m0s\u001b[0m 1ms/step - accuracy: 0.7529 - loss: 0.7270 - val_accuracy: 0.8260 - val_loss: 0.5756\n",
      "Epoch 234/300\n",
      "\u001b[1m219/219\u001b[0m \u001b[32m━━━━━━━━━━━━━━━━━━━━\u001b[0m\u001b[37m\u001b[0m \u001b[1m0s\u001b[0m 1ms/step - accuracy: 0.7747 - loss: 0.6930 - val_accuracy: 0.8283 - val_loss: 0.5781\n",
      "Epoch 235/300\n",
      "\u001b[1m219/219\u001b[0m \u001b[32m━━━━━━━━━━━━━━━━━━━━\u001b[0m\u001b[37m\u001b[0m \u001b[1m0s\u001b[0m 1ms/step - accuracy: 0.7642 - loss: 0.7186 - val_accuracy: 0.8329 - val_loss: 0.5556\n",
      "Epoch 236/300\n",
      "\u001b[1m219/219\u001b[0m \u001b[32m━━━━━━━━━━━━━━━━━━━━\u001b[0m\u001b[37m\u001b[0m \u001b[1m0s\u001b[0m 1ms/step - accuracy: 0.7598 - loss: 0.7286 - val_accuracy: 0.8220 - val_loss: 0.5780\n",
      "Epoch 237/300\n",
      "\u001b[1m219/219\u001b[0m \u001b[32m━━━━━━━━━━━━━━━━━━━━\u001b[0m\u001b[37m\u001b[0m \u001b[1m0s\u001b[0m 1ms/step - accuracy: 0.7610 - loss: 0.7226 - val_accuracy: 0.8288 - val_loss: 0.5728\n",
      "Epoch 238/300\n",
      "\u001b[1m219/219\u001b[0m \u001b[32m━━━━━━━━━━━━━━━━━━━━\u001b[0m\u001b[37m\u001b[0m \u001b[1m0s\u001b[0m 1ms/step - accuracy: 0.7660 - loss: 0.7471 - val_accuracy: 0.8151 - val_loss: 0.5726\n",
      "Epoch 239/300\n",
      "\u001b[1m219/219\u001b[0m \u001b[32m━━━━━━━━━━━━━━━━━━━━\u001b[0m\u001b[37m\u001b[0m \u001b[1m0s\u001b[0m 1ms/step - accuracy: 0.7622 - loss: 0.7247 - val_accuracy: 0.8203 - val_loss: 0.5571\n",
      "Epoch 240/300\n",
      "\u001b[1m219/219\u001b[0m \u001b[32m━━━━━━━━━━━━━━━━━━━━\u001b[0m\u001b[37m\u001b[0m \u001b[1m0s\u001b[0m 1ms/step - accuracy: 0.7500 - loss: 0.7442 - val_accuracy: 0.8300 - val_loss: 0.5773\n",
      "Epoch 241/300\n",
      "\u001b[1m219/219\u001b[0m \u001b[32m━━━━━━━━━━━━━━━━━━━━\u001b[0m\u001b[37m\u001b[0m \u001b[1m0s\u001b[0m 1ms/step - accuracy: 0.7573 - loss: 0.7267 - val_accuracy: 0.8260 - val_loss: 0.5702\n",
      "Epoch 242/300\n",
      "\u001b[1m219/219\u001b[0m \u001b[32m━━━━━━━━━━━━━━━━━━━━\u001b[0m\u001b[37m\u001b[0m \u001b[1m0s\u001b[0m 1ms/step - accuracy: 0.7451 - loss: 0.7736 - val_accuracy: 0.8266 - val_loss: 0.5828\n",
      "Epoch 243/300\n",
      "\u001b[1m219/219\u001b[0m \u001b[32m━━━━━━━━━━━━━━━━━━━━\u001b[0m\u001b[37m\u001b[0m \u001b[1m0s\u001b[0m 2ms/step - accuracy: 0.7615 - loss: 0.7410 - val_accuracy: 0.8340 - val_loss: 0.5632\n",
      "Epoch 244/300\n",
      "\u001b[1m219/219\u001b[0m \u001b[32m━━━━━━━━━━━━━━━━━━━━\u001b[0m\u001b[37m\u001b[0m \u001b[1m0s\u001b[0m 1ms/step - accuracy: 0.7538 - loss: 0.7183 - val_accuracy: 0.8300 - val_loss: 0.5716\n",
      "Epoch 245/300\n",
      "\u001b[1m219/219\u001b[0m \u001b[32m━━━━━━━━━━━━━━━━━━━━\u001b[0m\u001b[37m\u001b[0m \u001b[1m0s\u001b[0m 1ms/step - accuracy: 0.7569 - loss: 0.7517 - val_accuracy: 0.8226 - val_loss: 0.5840\n",
      "Epoch 246/300\n",
      "\u001b[1m219/219\u001b[0m \u001b[32m━━━━━━━━━━━━━━━━━━━━\u001b[0m\u001b[37m\u001b[0m \u001b[1m0s\u001b[0m 1ms/step - accuracy: 0.7632 - loss: 0.7160 - val_accuracy: 0.8128 - val_loss: 0.5928\n",
      "Epoch 247/300\n",
      "\u001b[1m219/219\u001b[0m \u001b[32m━━━━━━━━━━━━━━━━━━━━\u001b[0m\u001b[37m\u001b[0m \u001b[1m0s\u001b[0m 1ms/step - accuracy: 0.7461 - loss: 0.7398 - val_accuracy: 0.8214 - val_loss: 0.5718\n",
      "Epoch 248/300\n",
      "\u001b[1m219/219\u001b[0m \u001b[32m━━━━━━━━━━━━━━━━━━━━\u001b[0m\u001b[37m\u001b[0m \u001b[1m0s\u001b[0m 1ms/step - accuracy: 0.7518 - loss: 0.7493 - val_accuracy: 0.8346 - val_loss: 0.5696\n",
      "Epoch 249/300\n",
      "\u001b[1m219/219\u001b[0m \u001b[32m━━━━━━━━━━━━━━━━━━━━\u001b[0m\u001b[37m\u001b[0m \u001b[1m0s\u001b[0m 1ms/step - accuracy: 0.7685 - loss: 0.7037 - val_accuracy: 0.8266 - val_loss: 0.5696\n",
      "Epoch 250/300\n",
      "\u001b[1m219/219\u001b[0m \u001b[32m━━━━━━━━━━━━━━━━━━━━\u001b[0m\u001b[37m\u001b[0m \u001b[1m0s\u001b[0m 1ms/step - accuracy: 0.7718 - loss: 0.7068 - val_accuracy: 0.8288 - val_loss: 0.5867\n",
      "Epoch 251/300\n",
      "\u001b[1m219/219\u001b[0m \u001b[32m━━━━━━━━━━━━━━━━━━━━\u001b[0m\u001b[37m\u001b[0m \u001b[1m0s\u001b[0m 1ms/step - accuracy: 0.7527 - loss: 0.7254 - val_accuracy: 0.8311 - val_loss: 0.5691\n",
      "Epoch 252/300\n",
      "\u001b[1m219/219\u001b[0m \u001b[32m━━━━━━━━━━━━━━━━━━━━\u001b[0m\u001b[37m\u001b[0m \u001b[1m0s\u001b[0m 1ms/step - accuracy: 0.7536 - loss: 0.7590 - val_accuracy: 0.8283 - val_loss: 0.5758\n",
      "Epoch 253/300\n",
      "\u001b[1m219/219\u001b[0m \u001b[32m━━━━━━━━━━━━━━━━━━━━\u001b[0m\u001b[37m\u001b[0m \u001b[1m0s\u001b[0m 1ms/step - accuracy: 0.7469 - loss: 0.7556 - val_accuracy: 0.8100 - val_loss: 0.6025\n",
      "Epoch 254/300\n",
      "\u001b[1m219/219\u001b[0m \u001b[32m━━━━━━━━━━━━━━━━━━━━\u001b[0m\u001b[37m\u001b[0m \u001b[1m0s\u001b[0m 1ms/step - accuracy: 0.7609 - loss: 0.7168 - val_accuracy: 0.8277 - val_loss: 0.5709\n",
      "Epoch 255/300\n",
      "\u001b[1m219/219\u001b[0m \u001b[32m━━━━━━━━━━━━━━━━━━━━\u001b[0m\u001b[37m\u001b[0m \u001b[1m0s\u001b[0m 1ms/step - accuracy: 0.7641 - loss: 0.7345 - val_accuracy: 0.8369 - val_loss: 0.5721\n",
      "Epoch 256/300\n",
      "\u001b[1m219/219\u001b[0m \u001b[32m━━━━━━━━━━━━━━━━━━━━\u001b[0m\u001b[37m\u001b[0m \u001b[1m0s\u001b[0m 1ms/step - accuracy: 0.7586 - loss: 0.7092 - val_accuracy: 0.8260 - val_loss: 0.5612\n",
      "Epoch 257/300\n",
      "\u001b[1m219/219\u001b[0m \u001b[32m━━━━━━━━━━━━━━━━━━━━\u001b[0m\u001b[37m\u001b[0m \u001b[1m0s\u001b[0m 1ms/step - accuracy: 0.7614 - loss: 0.7449 - val_accuracy: 0.8283 - val_loss: 0.5707\n",
      "Epoch 258/300\n",
      "\u001b[1m219/219\u001b[0m \u001b[32m━━━━━━━━━━━━━━━━━━━━\u001b[0m\u001b[37m\u001b[0m \u001b[1m0s\u001b[0m 1ms/step - accuracy: 0.7664 - loss: 0.7232 - val_accuracy: 0.8220 - val_loss: 0.5921\n",
      "Epoch 259/300\n",
      "\u001b[1m219/219\u001b[0m \u001b[32m━━━━━━━━━━━━━━━━━━━━\u001b[0m\u001b[37m\u001b[0m \u001b[1m0s\u001b[0m 1ms/step - accuracy: 0.7633 - loss: 0.7442 - val_accuracy: 0.8260 - val_loss: 0.5766\n",
      "Epoch 260/300\n",
      "\u001b[1m219/219\u001b[0m \u001b[32m━━━━━━━━━━━━━━━━━━━━\u001b[0m\u001b[37m\u001b[0m \u001b[1m0s\u001b[0m 1ms/step - accuracy: 0.7544 - loss: 0.7382 - val_accuracy: 0.8214 - val_loss: 0.5842\n",
      "Epoch 261/300\n",
      "\u001b[1m219/219\u001b[0m \u001b[32m━━━━━━━━━━━━━━━━━━━━\u001b[0m\u001b[37m\u001b[0m \u001b[1m0s\u001b[0m 1ms/step - accuracy: 0.7695 - loss: 0.7032 - val_accuracy: 0.8334 - val_loss: 0.5609\n",
      "Epoch 262/300\n",
      "\u001b[1m219/219\u001b[0m \u001b[32m━━━━━━━━━━━━━━━━━━━━\u001b[0m\u001b[37m\u001b[0m \u001b[1m0s\u001b[0m 1ms/step - accuracy: 0.7796 - loss: 0.6880 - val_accuracy: 0.8163 - val_loss: 0.5920\n",
      "Epoch 263/300\n",
      "\u001b[1m219/219\u001b[0m \u001b[32m━━━━━━━━━━━━━━━━━━━━\u001b[0m\u001b[37m\u001b[0m \u001b[1m0s\u001b[0m 1ms/step - accuracy: 0.7612 - loss: 0.7244 - val_accuracy: 0.8180 - val_loss: 0.5792\n",
      "Epoch 264/300\n",
      "\u001b[1m219/219\u001b[0m \u001b[32m━━━━━━━━━━━━━━━━━━━━\u001b[0m\u001b[37m\u001b[0m \u001b[1m0s\u001b[0m 1ms/step - accuracy: 0.7643 - loss: 0.7346 - val_accuracy: 0.8392 - val_loss: 0.5645\n",
      "Epoch 265/300\n",
      "\u001b[1m219/219\u001b[0m \u001b[32m━━━━━━━━━━━━━━━━━━━━\u001b[0m\u001b[37m\u001b[0m \u001b[1m0s\u001b[0m 1ms/step - accuracy: 0.7637 - loss: 0.7209 - val_accuracy: 0.8243 - val_loss: 0.5709\n",
      "Epoch 266/300\n",
      "\u001b[1m219/219\u001b[0m \u001b[32m━━━━━━━━━━━━━━━━━━━━\u001b[0m\u001b[37m\u001b[0m \u001b[1m0s\u001b[0m 1ms/step - accuracy: 0.7489 - loss: 0.7763 - val_accuracy: 0.8277 - val_loss: 0.5738\n",
      "Epoch 267/300\n",
      "\u001b[1m219/219\u001b[0m \u001b[32m━━━━━━━━━━━━━━━━━━━━\u001b[0m\u001b[37m\u001b[0m \u001b[1m0s\u001b[0m 1ms/step - accuracy: 0.7647 - loss: 0.7040 - val_accuracy: 0.8243 - val_loss: 0.5772\n",
      "Epoch 268/300\n",
      "\u001b[1m219/219\u001b[0m \u001b[32m━━━━━━━━━━━━━━━━━━━━\u001b[0m\u001b[37m\u001b[0m \u001b[1m0s\u001b[0m 1ms/step - accuracy: 0.7526 - loss: 0.7129 - val_accuracy: 0.8271 - val_loss: 0.5590\n",
      "Epoch 269/300\n",
      "\u001b[1m219/219\u001b[0m \u001b[32m━━━━━━━━━━━━━━━━━━━━\u001b[0m\u001b[37m\u001b[0m \u001b[1m0s\u001b[0m 1ms/step - accuracy: 0.7589 - loss: 0.7368 - val_accuracy: 0.8260 - val_loss: 0.5666\n",
      "Epoch 270/300\n",
      "\u001b[1m219/219\u001b[0m \u001b[32m━━━━━━━━━━━━━━━━━━━━\u001b[0m\u001b[37m\u001b[0m \u001b[1m0s\u001b[0m 1ms/step - accuracy: 0.7589 - loss: 0.7163 - val_accuracy: 0.8260 - val_loss: 0.5710\n",
      "Epoch 271/300\n",
      "\u001b[1m219/219\u001b[0m \u001b[32m━━━━━━━━━━━━━━━━━━━━\u001b[0m\u001b[37m\u001b[0m \u001b[1m0s\u001b[0m 1ms/step - accuracy: 0.7725 - loss: 0.7169 - val_accuracy: 0.8323 - val_loss: 0.5606\n",
      "Epoch 272/300\n",
      "\u001b[1m219/219\u001b[0m \u001b[32m━━━━━━━━━━━━━━━━━━━━\u001b[0m\u001b[37m\u001b[0m \u001b[1m0s\u001b[0m 1ms/step - accuracy: 0.7743 - loss: 0.6975 - val_accuracy: 0.8288 - val_loss: 0.5553\n",
      "Epoch 273/300\n",
      "\u001b[1m219/219\u001b[0m \u001b[32m━━━━━━━━━━━━━━━━━━━━\u001b[0m\u001b[37m\u001b[0m \u001b[1m0s\u001b[0m 1ms/step - accuracy: 0.7604 - loss: 0.7184 - val_accuracy: 0.8317 - val_loss: 0.5524\n",
      "Epoch 274/300\n",
      "\u001b[1m219/219\u001b[0m \u001b[32m━━━━━━━━━━━━━━━━━━━━\u001b[0m\u001b[37m\u001b[0m \u001b[1m0s\u001b[0m 1ms/step - accuracy: 0.7810 - loss: 0.6529 - val_accuracy: 0.8220 - val_loss: 0.5646\n",
      "Epoch 275/300\n",
      "\u001b[1m219/219\u001b[0m \u001b[32m━━━━━━━━━━━━━━━━━━━━\u001b[0m\u001b[37m\u001b[0m \u001b[1m0s\u001b[0m 1ms/step - accuracy: 0.7624 - loss: 0.7146 - val_accuracy: 0.8226 - val_loss: 0.5783\n",
      "Epoch 276/300\n",
      "\u001b[1m219/219\u001b[0m \u001b[32m━━━━━━━━━━━━━━━━━━━━\u001b[0m\u001b[37m\u001b[0m \u001b[1m0s\u001b[0m 1ms/step - accuracy: 0.7587 - loss: 0.7162 - val_accuracy: 0.8323 - val_loss: 0.5454\n",
      "Epoch 277/300\n",
      "\u001b[1m219/219\u001b[0m \u001b[32m━━━━━━━━━━━━━━━━━━━━\u001b[0m\u001b[37m\u001b[0m \u001b[1m0s\u001b[0m 1ms/step - accuracy: 0.7524 - loss: 0.7310 - val_accuracy: 0.8248 - val_loss: 0.5773\n",
      "Epoch 278/300\n",
      "\u001b[1m219/219\u001b[0m \u001b[32m━━━━━━━━━━━━━━━━━━━━\u001b[0m\u001b[37m\u001b[0m \u001b[1m0s\u001b[0m 1ms/step - accuracy: 0.7647 - loss: 0.7367 - val_accuracy: 0.8300 - val_loss: 0.5383\n",
      "Epoch 279/300\n",
      "\u001b[1m219/219\u001b[0m \u001b[32m━━━━━━━━━━━━━━━━━━━━\u001b[0m\u001b[37m\u001b[0m \u001b[1m0s\u001b[0m 1ms/step - accuracy: 0.7626 - loss: 0.7299 - val_accuracy: 0.8283 - val_loss: 0.5284\n",
      "Epoch 280/300\n",
      "\u001b[1m219/219\u001b[0m \u001b[32m━━━━━━━━━━━━━━━━━━━━\u001b[0m\u001b[37m\u001b[0m \u001b[1m0s\u001b[0m 1ms/step - accuracy: 0.7582 - loss: 0.7177 - val_accuracy: 0.8357 - val_loss: 0.5534\n",
      "Epoch 281/300\n",
      "\u001b[1m219/219\u001b[0m \u001b[32m━━━━━━━━━━━━━━━━━━━━\u001b[0m\u001b[37m\u001b[0m \u001b[1m0s\u001b[0m 1ms/step - accuracy: 0.7607 - loss: 0.7216 - val_accuracy: 0.8260 - val_loss: 0.5779\n",
      "Epoch 282/300\n",
      "\u001b[1m219/219\u001b[0m \u001b[32m━━━━━━━━━━━━━━━━━━━━\u001b[0m\u001b[37m\u001b[0m \u001b[1m0s\u001b[0m 1ms/step - accuracy: 0.7612 - loss: 0.7051 - val_accuracy: 0.8392 - val_loss: 0.5535\n",
      "Epoch 283/300\n",
      "\u001b[1m219/219\u001b[0m \u001b[32m━━━━━━━━━━━━━━━━━━━━\u001b[0m\u001b[37m\u001b[0m \u001b[1m0s\u001b[0m 1ms/step - accuracy: 0.7670 - loss: 0.7270 - val_accuracy: 0.8329 - val_loss: 0.5490\n",
      "Epoch 284/300\n",
      "\u001b[1m219/219\u001b[0m \u001b[32m━━━━━━━━━━━━━━━━━━━━\u001b[0m\u001b[37m\u001b[0m \u001b[1m0s\u001b[0m 1ms/step - accuracy: 0.7736 - loss: 0.7172 - val_accuracy: 0.8306 - val_loss: 0.5736\n",
      "Epoch 285/300\n",
      "\u001b[1m219/219\u001b[0m \u001b[32m━━━━━━━━━━━━━━━━━━━━\u001b[0m\u001b[37m\u001b[0m \u001b[1m0s\u001b[0m 1ms/step - accuracy: 0.7668 - loss: 0.7261 - val_accuracy: 0.8306 - val_loss: 0.5551\n",
      "Epoch 286/300\n",
      "\u001b[1m219/219\u001b[0m \u001b[32m━━━━━━━━━━━━━━━━━━━━\u001b[0m\u001b[37m\u001b[0m \u001b[1m0s\u001b[0m 1ms/step - accuracy: 0.7581 - loss: 0.7327 - val_accuracy: 0.8214 - val_loss: 0.5827\n",
      "Epoch 287/300\n",
      "\u001b[1m219/219\u001b[0m \u001b[32m━━━━━━━━━━━━━━━━━━━━\u001b[0m\u001b[37m\u001b[0m \u001b[1m0s\u001b[0m 1ms/step - accuracy: 0.7571 - loss: 0.7551 - val_accuracy: 0.8277 - val_loss: 0.5629\n",
      "Epoch 288/300\n",
      "\u001b[1m219/219\u001b[0m \u001b[32m━━━━━━━━━━━━━━━━━━━━\u001b[0m\u001b[37m\u001b[0m \u001b[1m0s\u001b[0m 1ms/step - accuracy: 0.7697 - loss: 0.7077 - val_accuracy: 0.8357 - val_loss: 0.5559\n",
      "Epoch 289/300\n",
      "\u001b[1m219/219\u001b[0m \u001b[32m━━━━━━━━━━━━━━━━━━━━\u001b[0m\u001b[37m\u001b[0m \u001b[1m0s\u001b[0m 1ms/step - accuracy: 0.7738 - loss: 0.6841 - val_accuracy: 0.8380 - val_loss: 0.5618\n",
      "Epoch 290/300\n",
      "\u001b[1m219/219\u001b[0m \u001b[32m━━━━━━━━━━━━━━━━━━━━\u001b[0m\u001b[37m\u001b[0m \u001b[1m0s\u001b[0m 2ms/step - accuracy: 0.7651 - loss: 0.7238 - val_accuracy: 0.8357 - val_loss: 0.5658\n",
      "Epoch 291/300\n",
      "\u001b[1m219/219\u001b[0m \u001b[32m━━━━━━━━━━━━━━━━━━━━\u001b[0m\u001b[37m\u001b[0m \u001b[1m0s\u001b[0m 1ms/step - accuracy: 0.7743 - loss: 0.6913 - val_accuracy: 0.8288 - val_loss: 0.5776\n",
      "Epoch 292/300\n",
      "\u001b[1m219/219\u001b[0m \u001b[32m━━━━━━━━━━━━━━━━━━━━\u001b[0m\u001b[37m\u001b[0m \u001b[1m0s\u001b[0m 1ms/step - accuracy: 0.7597 - loss: 0.7184 - val_accuracy: 0.8271 - val_loss: 0.5639\n",
      "Epoch 293/300\n",
      "\u001b[1m219/219\u001b[0m \u001b[32m━━━━━━━━━━━━━━━━━━━━\u001b[0m\u001b[37m\u001b[0m \u001b[1m0s\u001b[0m 1ms/step - accuracy: 0.7818 - loss: 0.6771 - val_accuracy: 0.8460 - val_loss: 0.5348\n",
      "Epoch 294/300\n",
      "\u001b[1m219/219\u001b[0m \u001b[32m━━━━━━━━━━━━━━━━━━━━\u001b[0m\u001b[37m\u001b[0m \u001b[1m0s\u001b[0m 1ms/step - accuracy: 0.7592 - loss: 0.7349 - val_accuracy: 0.8392 - val_loss: 0.5517\n",
      "Epoch 295/300\n",
      "\u001b[1m219/219\u001b[0m \u001b[32m━━━━━━━━━━━━━━━━━━━━\u001b[0m\u001b[37m\u001b[0m \u001b[1m0s\u001b[0m 1ms/step - accuracy: 0.7731 - loss: 0.6816 - val_accuracy: 0.8288 - val_loss: 0.5519\n",
      "Epoch 296/300\n",
      "\u001b[1m219/219\u001b[0m \u001b[32m━━━━━━━━━━━━━━━━━━━━\u001b[0m\u001b[37m\u001b[0m \u001b[1m0s\u001b[0m 1ms/step - accuracy: 0.7690 - loss: 0.6881 - val_accuracy: 0.8277 - val_loss: 0.5582\n",
      "Epoch 297/300\n",
      "\u001b[1m219/219\u001b[0m \u001b[32m━━━━━━━━━━━━━━━━━━━━\u001b[0m\u001b[37m\u001b[0m \u001b[1m0s\u001b[0m 1ms/step - accuracy: 0.7678 - loss: 0.7186 - val_accuracy: 0.8197 - val_loss: 0.5685\n",
      "Epoch 298/300\n",
      "\u001b[1m219/219\u001b[0m \u001b[32m━━━━━━━━━━━━━━━━━━━━\u001b[0m\u001b[37m\u001b[0m \u001b[1m0s\u001b[0m 2ms/step - accuracy: 0.7683 - loss: 0.7180 - val_accuracy: 0.8334 - val_loss: 0.5632\n",
      "Epoch 299/300\n",
      "\u001b[1m219/219\u001b[0m \u001b[32m━━━━━━━━━━━━━━━━━━━━\u001b[0m\u001b[37m\u001b[0m \u001b[1m0s\u001b[0m 1ms/step - accuracy: 0.7653 - loss: 0.7127 - val_accuracy: 0.8363 - val_loss: 0.5300\n",
      "Epoch 300/300\n",
      "\u001b[1m219/219\u001b[0m \u001b[32m━━━━━━━━━━━━━━━━━━━━\u001b[0m\u001b[37m\u001b[0m \u001b[1m0s\u001b[0m 1ms/step - accuracy: 0.7638 - loss: 0.6975 - val_accuracy: 0.8363 - val_loss: 0.5483\n"
     ]
    },
    {
     "data": {
      "text/plain": [
       "<keras.src.callbacks.history.History at 0x1cae10ddca0>"
      ]
     },
     "execution_count": 37,
     "metadata": {},
     "output_type": "execute_result"
    }
   ],
   "source": [
    "# Modeli Eğitme\n",
    "\n",
    "epochscount = 300\n",
    "num_batch_size = 32\n",
    "\n",
    "model.fit(X_train, y_train, batch_size=num_batch_size, epochs=epochscount, validation_data=(X_test, y_test), verbose=1)\n"
   ]
  },
  {
   "cell_type": "code",
   "execution_count": 55,
   "id": "0eaa0a00-161f-486c-aa46-69b8bc51e2c7",
   "metadata": {},
   "outputs": [
    {
     "name": "stdout",
     "output_type": "stream",
     "text": [
      "0.8362907767295837\n"
     ]
    }
   ],
   "source": [
    "# Modelin doğrulama/test seti üzerindeki performansını değerlendir\n",
    "validation_test_set_accuracy = model.evaluate(X_test, y_test, verbose=0)\n",
    "# Doğrulama/test seti doğruluğunu yazdır\n",
    "print(validation_test_set_accuracy[1])\n"
   ]
  },
  {
   "cell_type": "code",
   "execution_count": 56,
   "id": "b7966534-d979-4808-847f-f15a53f30918",
   "metadata": {},
   "outputs": [
    {
     "data": {
      "text/plain": [
       "array([-466.17957   ,    1.0950246 ,  -34.01389   ,   35.339348  ,\n",
       "        -14.88148   ,  -19.12843   ,   -0.5816844 ,  -16.130579  ,\n",
       "        -21.339073  ,    7.673634  ,  -29.164494  ,  -18.950253  ,\n",
       "         -2.9579997 ,   -8.162329  ,  -15.153101  ,   -6.6048055 ,\n",
       "         -7.568598  ,    9.340646  ,   14.4331    ,   21.934181  ,\n",
       "         20.861397  ,    1.3340123 ,  -19.228804  ,   -4.6302314 ,\n",
       "         -1.0564744 ,    3.215267  ,   -6.9842815 ,  -16.414577  ,\n",
       "        -10.0286455 ,   13.009954  ,    0.53346086,  -23.843391  ,\n",
       "        -15.267322  ,    9.245734  ,   10.367628  ,   -0.5832011 ,\n",
       "         -1.2624054 ,   17.700016  ,   13.847463  ,   -5.1862826 ],\n",
       "      dtype=float32)"
      ]
     },
     "execution_count": 56,
     "metadata": {},
     "output_type": "execute_result"
    }
   ],
   "source": [
    "# X_test veri setinin ikinci örneğini al\n",
    "X_test[1]\n"
   ]
  },
  {
   "cell_type": "code",
   "execution_count": 57,
   "id": "b1909af8-13f8-4e92-b07e-54645b11435b",
   "metadata": {},
   "outputs": [
    {
     "name": "stdout",
     "output_type": "stream",
     "text": [
      "\u001b[1m55/55\u001b[0m \u001b[32m━━━━━━━━━━━━━━━━━━━━\u001b[0m\u001b[37m\u001b[0m \u001b[1m0s\u001b[0m 741us/step\n"
     ]
    }
   ],
   "source": [
    "# Modeli kullanarak X_test veri seti üzerinde tahminlerde bulun\n",
    "predictions = model.predict(X_test)\n",
    "# Tahminler arasından en yüksek olasılığa sahip sınıfı seç\n",
    "predicted_classes = np.argmax(predictions, axis=1)\n",
    "\n"
   ]
  },
  {
   "cell_type": "code",
   "execution_count": 41,
   "id": "84fd8223-c334-459c-961f-7e37ce5e644f",
   "metadata": {},
   "outputs": [
    {
     "name": "stdout",
     "output_type": "stream",
     "text": [
      "\u001b[1m55/55\u001b[0m \u001b[32m━━━━━━━━━━━━━━━━━━━━\u001b[0m\u001b[37m\u001b[0m \u001b[1m0s\u001b[0m 735us/step\n"
     ]
    },
    {
     "data": {
      "image/png": "[encoded data removed]",
      "text/plain": [
       "<Figure size 1000x800 with 2 Axes>"
      ]
     },
     "metadata": {},
     "output_type": "display_data"
    }
   ],
   "source": [
    "# Konfüzyon matrisi kodunu buraya yapıştırın ve çalıştırın\n",
    "from sklearn.metrics import confusion_matrix\n",
    "import seaborn as sns\n",
    "\n",
    "# Modelin tahminlerini alın\n",
    "y_pred = model.predict(X_test)\n",
    "# Tahminleri en yüksek olasılığa sahip sınıfların indekslerine dönüştürün\n",
    "y_pred_classes = np.argmax(y_pred, axis=1)\n",
    "# Gerçek etiketleri de aynı formata dönüştürün\n",
    "y_true = np.argmax(y_test, axis=1)\n",
    "\n",
    "# Konfüzyon matrisini hesaplayın\n",
    "conf_matrix = confusion_matrix(y_true, y_pred_classes)\n",
    "\n",
    "# Konfüzyon matrisini görselleştirin\n",
    "plt.figure(figsize=(10, 8))\n",
    "sns.heatmap(conf_matrix, annot=True, fmt='d', cmap='Blues')\n",
    "plt.ylabel('Gerçek Etiketler')\n",
    "plt.xlabel('Tahmin Edilen Etiketler')\n",
    "plt.title('Konfüzyon Matrisi')\n",
    "plt.show()\n"
   ]
  },
  {
   "cell_type": "code",
   "execution_count": 42,
   "id": "9f50bf66-ee2c-454c-805d-1f6b0c38a15c",
   "metadata": {},
   "outputs": [
    {
     "name": "stdout",
     "output_type": "stream",
     "text": [
      "\u001b[1m55/55\u001b[0m \u001b[32m━━━━━━━━━━━━━━━━━━━━\u001b[0m\u001b[37m\u001b[0m \u001b[1m0s\u001b[0m 741us/step\n",
      "True Positives: [171  70 173 139 171 195  54 175 184 129]\n",
      "False Positives: [ 36   1 114  25  11   8   1  18   7  65]\n",
      "True Negatives: [1290 1391 1288 1322 1290 1266 1407 1286 1277 1332]\n",
      "False Negatives: [24 21 32 43 31 21 33 12 15 54]\n"
     ]
    }
   ],
   "source": [
    "from sklearn.metrics import confusion_matrix\n",
    "import numpy as np\n",
    "\n",
    "# Modelin tahminlerini alın\n",
    "y_pred = model.predict(X_test)\n",
    "# Tahminleri en yüksek olasılığa sahip sınıfların indekslerine dönüştürün\n",
    "y_pred_classes = np.argmax(y_pred, axis=1)\n",
    "# Gerçek etiketleri de aynı formata dönüştürün\n",
    "y_true = np.argmax(y_test, axis=1)\n",
    "\n",
    "# Konfüzyon matrisini hesaplayın\n",
    "conf_matrix = confusion_matrix(y_true, y_pred_classes)\n",
    "\n",
    "# TP, FP, TN, FN değerlerini her sınıf için hesaplayın\n",
    "TP = np.diag(conf_matrix)\n",
    "FP = np.sum(conf_matrix, axis=0) - TP\n",
    "FN = np.sum(conf_matrix, axis=1) - TP\n",
    "TN = np.sum(TP) - TP\n",
    "\n",
    "# TP, FP, TN, FN değerlerini yazdırın\n",
    "print(f\"True Positives: {TP}\")\n",
    "print(f\"False Positives: {FP}\")\n",
    "print(f\"True Negatives: {TN}\")\n",
    "print(f\"False Negatives: {FN}\")\n"
   ]
  },
  {
   "cell_type": "code",
   "execution_count": 43,
   "id": "9cb12f51-590a-48df-bc17-8f660c6bb6a4",
   "metadata": {},
   "outputs": [
    {
     "name": "stdout",
     "output_type": "stream",
     "text": [
      "\u001b[1m55/55\u001b[0m \u001b[32m━━━━━━━━━━━━━━━━━━━━\u001b[0m\u001b[37m\u001b[0m \u001b[1m0s\u001b[0m 740us/step\n",
      "Genel Doğruluk (Accuracy): 0.84\n",
      "Hassasiyet (Precision): 0.87\n",
      "Duyarlılık (Recall/Sensitivity): 0.82\n",
      "F1 Skoru: 0.84\n"
     ]
    }
   ],
   "source": [
    "from sklearn.metrics import confusion_matrix, accuracy_score, precision_score, recall_score, f1_score\n",
    "import seaborn as sns\n",
    "import matplotlib.pyplot as plt\n",
    "\n",
    "# Modelin tahminlerini alın\n",
    "y_pred = model.predict(X_test)\n",
    "# Tahminleri en yüksek olasılığa sahip sınıfların indekslerine dönüştürün\n",
    "y_pred_classes = np.argmax(y_pred, axis=1)\n",
    "# Gerçek etiketleri de aynı formata dönüştürün\n",
    "y_true = np.argmax(y_test, axis=1)\n",
    "\n",
    "# Konfüzyon matrisini hesaplayın\n",
    "conf_matrix = confusion_matrix(y_true, y_pred_classes)\n",
    "\n",
    "# Performans metriklerini hesaplayın\n",
    "accuracy = accuracy_score(y_true, y_pred_classes)\n",
    "precision = precision_score(y_true, y_pred_classes, average='macro')\n",
    "recall = recall_score(y_true, y_pred_classes, average='macro')\n",
    "f1 = f1_score(y_true, y_pred_classes, average='macro')\n",
    "\n",
    "# Performans metriklerini yazdırın\n",
    "print(f\"Genel Doğruluk (Accuracy): {accuracy:.2f}\")\n",
    "print(f\"Hassasiyet (Precision): {precision:.2f}\")\n",
    "print(f\"Duyarlılık (Recall/Sensitivity): {recall:.2f}\")\n",
    "print(f\"F1 Skoru: {f1:.2f}\")\n"
   ]
  },
  {
   "cell_type": "markdown",
   "id": "ebd540f5-a528-4eec-b8c5-cba83235bfbe",
   "metadata": {},
   "source": [
    "### Adım 3: Son olarak CNN Modelimizi Kullanarak Bir Ses Dosyasının Sınıfını Tahmin Ediyoruz.\r",
    "Önce yeni ses verilerini ön işleme tabi tutuyoruz ve sonra sınıfı tahmin ediyoruz..\r\n"
   ]
  },
  {
   "cell_type": "code",
   "execution_count": 44,
   "id": "75a2c6fc-67c1-4d76-bc6a-3389ec4c1f7d",
   "metadata": {},
   "outputs": [],
   "source": [
    "# Dosya adı belirtiliyor\n",
    "filename=\"UrbanSound8K/7383-3-0-0.wav\"\n",
    "\n",
    "# Librosa kullanılarak ses sinyali ve örnekleme hızı yükleniyor.\n",
    "sound_signal, sample_rate = librosa.load(filename, res_type='kaiser_fast') \n",
    "\n",
    "# MFCC özellikleri hesaplanıyor.\n",
    "mfccs_features = librosa.feature.mfcc(y=sound_signal, sr=sample_rate, n_mfcc=40)\n",
    "\n",
    "# MFCC özelliklerinin ortalaması alınıyor ve ölçeklendiriliyor.\n",
    "mfccs_scaled_features = np.mean(mfccs_features.T,axis=0)"
   ]
  },
  {
   "cell_type": "code",
   "execution_count": 45,
   "id": "f99cee83-3964-415e-b135-9e5b9d87c876",
   "metadata": {},
   "outputs": [
    {
     "name": "stdout",
     "output_type": "stream",
     "text": [
      "[-3.9742188e+02  1.4218434e+02  1.0239104e+01 -9.6230555e+00\n",
      " -8.1905842e+00  7.6672630e+00 -1.0299530e+01 -7.1226473e+00\n",
      " -3.5969069e+00 -5.6251783e+00 -2.4014688e+00 -3.5109861e+00\n",
      "  5.2140422e+00  9.1520948e+00  9.7396631e+00  1.2672479e+01\n",
      "  2.4935956e+00 -1.9596174e-01  2.0568907e+00  1.2565471e-01\n",
      "  2.3887670e-01 -2.2244751e+00 -4.1830082e+00 -8.7841499e-01\n",
      "  5.5512738e-01  1.4530714e+00  1.5828408e+00  2.5280828e+00\n",
      "  4.4751973e+00  1.8469352e+00  8.8243961e-02 -2.5079804e-02\n",
      "  1.9693791e+00  1.1326448e+00  1.8206310e-01 -9.0641969e-01\n",
      " -2.5448072e+00 -1.7134562e+00 -1.3600037e+00  3.9560735e-01]\n"
     ]
    }
   ],
   "source": [
    "# Ölçeklendirilmiş özellikler yazdırılıyor.\n",
    "print(mfccs_scaled_features)"
   ]
  },
  {
   "cell_type": "code",
   "execution_count": 46,
   "id": "4066718a-d94d-4c05-842c-e94b83c9615e",
   "metadata": {},
   "outputs": [],
   "source": [
    "# Özellikler yeniden şekillendiriliyor.\n",
    "mfccs_scaled_features = mfccs_scaled_features.reshape(1,-1)"
   ]
  },
  {
   "cell_type": "code",
   "execution_count": 47,
   "id": "20ac9a6d-2df5-4af3-82db-ab6a32ef3ba2",
   "metadata": {},
   "outputs": [
    {
     "data": {
      "text/plain": [
       "(1, 40)"
      ]
     },
     "execution_count": 47,
     "metadata": {},
     "output_type": "execute_result"
    }
   ],
   "source": [
    "# Yeniden şekillendirilmiş özelliklerin boyutları yazdırılıyor.\n",
    "mfccs_scaled_features.shape"
   ]
  },
  {
   "cell_type": "code",
   "execution_count": 48,
   "id": "6be73158-8f7d-43a9-8e72-efad2ed8b15e",
   "metadata": {},
   "outputs": [
    {
     "name": "stdout",
     "output_type": "stream",
     "text": [
      "(1, 40)\n"
     ]
    }
   ],
   "source": [
    "print(mfccs_scaled_features.shape)"
   ]
  },
  {
   "cell_type": "code",
   "execution_count": 49,
   "id": "b98cc07a-7de9-40ce-8c9d-4d5fd6dfe99d",
   "metadata": {},
   "outputs": [
    {
     "name": "stdout",
     "output_type": "stream",
     "text": [
      "[[-3.9742188e+02  1.4218434e+02  1.0239104e+01 -9.6230555e+00\n",
      "  -8.1905842e+00  7.6672630e+00 -1.0299530e+01 -7.1226473e+00\n",
      "  -3.5969069e+00 -5.6251783e+00 -2.4014688e+00 -3.5109861e+00\n",
      "   5.2140422e+00  9.1520948e+00  9.7396631e+00  1.2672479e+01\n",
      "   2.4935956e+00 -1.9596174e-01  2.0568907e+00  1.2565471e-01\n",
      "   2.3887670e-01 -2.2244751e+00 -4.1830082e+00 -8.7841499e-01\n",
      "   5.5512738e-01  1.4530714e+00  1.5828408e+00  2.5280828e+00\n",
      "   4.4751973e+00  1.8469352e+00  8.8243961e-02 -2.5079804e-02\n",
      "   1.9693791e+00  1.1326448e+00  1.8206310e-01 -9.0641969e-01\n",
      "  -2.5448072e+00 -1.7134562e+00 -1.3600037e+00  3.9560735e-01]]\n"
     ]
    }
   ],
   "source": [
    "print(mfccs_scaled_features)"
   ]
  },
  {
   "cell_type": "code",
   "execution_count": 50,
   "id": "31af5175-8178-469d-9926-06fbbe1d6903",
   "metadata": {},
   "outputs": [
    {
     "name": "stdout",
     "output_type": "stream",
     "text": [
      "\u001b[1m1/1\u001b[0m \u001b[32m━━━━━━━━━━━━━━━━━━━━\u001b[0m\u001b[37m\u001b[0m \u001b[1m0s\u001b[0m 20ms/step\n"
     ]
    }
   ],
   "source": [
    "# Model kullanılarak tahmin yapılıyor.\n",
    "result_array = model.predict(mfccs_scaled_features)"
   ]
  },
  {
   "cell_type": "code",
   "execution_count": 51,
   "id": "6045562d-00f2-4387-a74c-192599364761",
   "metadata": {},
   "outputs": [
    {
     "data": {
      "text/plain": [
       "array([[6.4553966e-11, 6.5906085e-07, 4.1534286e-06, 9.8863667e-01,\n",
       "        7.6079388e-08, 4.1190651e-09, 1.1336484e-02, 1.0254619e-15,\n",
       "        1.0698557e-05, 1.1210197e-05]], dtype=float32)"
      ]
     },
     "execution_count": 51,
     "metadata": {},
     "output_type": "execute_result"
    }
   ],
   "source": [
    "result_array\n"
   ]
  },
  {
   "cell_type": "code",
   "execution_count": 71,
   "id": "28ecf203-e074-4495-8bc3-784d0050a87d",
   "metadata": {},
   "outputs": [
    {
     "name": "stdout",
     "output_type": "stream",
     "text": [
      "dog_bark\n"
     ]
    }
   ],
   "source": [
    "# Olası sonuç sınıflarının listesi\n",
    "result_classes = [\"air_conditioner\",\"car_horn\",\"children_playing\",\"dog_bark\",\"drilling\", \n",
    "                  \"engine_idling\", \"gun_shot\", \"jackhammer\", \"siren\", \"street_music\"]\n",
    "\n",
    "# result_array'in ilk elemanı için en yüksek olasılığa sahip sınıfın indeksini bul\n",
    "result = np.argmax(result_array[0])\n",
    "# Bulunan indeksi kullanarak sonucun sınıfını yazdır\n",
    "print(result_classes[result])\n"
   ]
  },
  {
   "cell_type": "code",
   "execution_count": null,
   "id": "53785399-63cd-41e6-9141-ab04ee3e8e16",
   "metadata": {},
   "outputs": [],
   "source": [
    "\n",
    "\n",
    "\n"
   ]
  },
  {
   "cell_type": "code",
   "execution_count": null,
   "id": "7c1c64d6-7557-4a2d-9812-f54df522e052",
   "metadata": {},
   "outputs": [],
   "source": []
  },
  {
   "cell_type": "code",
   "execution_count": null,
   "id": "01cb25a1-9461-470e-911a-014ef41a015a",
   "metadata": {},
   "outputs": [],
   "source": []
  },
  {
   "cell_type": "code",
   "execution_count": null,
   "id": "04bc2226-4aa7-42e5-8965-8680e70b33ed",
   "metadata": {},
   "outputs": [],
   "source": []
  }
 ],
 "metadata": {
  "kernelspec": {
   "display_name": "Python 3 (ipykernel)",
   "language": "python",
   "name": "python3"
  },
  "language_info": {
   "codemirror_mode": {
    "name": "ipython",
    "version": 3
   },
   "file_extension": ".py",
   "mimetype": "text/x-python",
   "name": "python",
   "nbconvert_exporter": "python",
   "pygments_lexer": "ipython3",
   "version": "3.12.0"
  }
 },
 "nbformat": 4,
 "nbformat_minor": 5
}
